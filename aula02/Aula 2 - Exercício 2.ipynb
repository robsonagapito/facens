{
 "cells": [
  {
   "cell_type": "markdown",
   "metadata": {},
   "source": [
    "## Exercício 2\n",
    "\n",
    "### Considere um arquivo CSV (comma separated values) com informações demográficas sobre super heróis (heroes_information.csv):\n",
    "- id - Numero da linha\n",
    "- name - Nome\n",
    "- Gender - Gênero\n",
    "- Eye color - Cor dos olhos\n",
    "- Race - Raça\n",
    "- Hair color - Cor do cabelo\n",
    "- Height - Altura em centimetros\n",
    "- Publisher - Estúdio\n",
    "- Skin color - Cor da pele\n",
    "- Alignment - Vilão ou herói\n",
    "- Weight - Peso em libras\n",
    "\n",
    "### Pede-se\n",
    "* Crie uma função que efetue a leitura do arquivo e crie:\n",
    "    - Um arquivo de saida (heroes_male.csv) com todos os heróis do gênero masculino (id, name)\n",
    "    - Um arquivo de saida (heroes_female.csv) com todos os heróis do gênero feminino (id, name)\n",
    "    - Um arquivo de saida (heroes_no_gender.csv) com todos os heróis sem gênero defindo (id, name)\n",
    "    - Um arquivo de saida (heroes_mavel_comics.txt) com o nome de todos os heróis dos estúdios Marvel Comics e DC Comics (um nome por linha)\n",
    "    - Um arquivo de saida (heroes_cheater_blue_skin.txt) com o nome de todos os heróis que tenham cor de pele azul e que sejam vilões (uma única linha com os nomes separados por #)\n"
   ]
  },
  {
   "cell_type": "code",
   "execution_count": 5,
   "metadata": {},
   "outputs": [],
   "source": [
    "def read_file(original_file):\n",
    "    with open(original_file) as ori, \\\n",
    "         open('heroes_male.csv',mode='w') as ma, \\\n",
    "         open('heroes_female.csv',mode='w') as fe, \\\n",
    "         open('heroes_no_gender.csv',mode='w') as no, \\\n",
    "         open('heroes_marvel_comics.txt',mode='w') as marvel, \\\n",
    "         open('heroes_cheater_blue_skin.txt',mode='w') as skin:\n",
    "        next(ori)\n",
    "        skin_line = [];\n",
    "        ma.write('id,name\\n')\n",
    "        fe.write('id,name\\n')\n",
    "        no.write('id,name\\n')\n",
    "        for line in ori:\n",
    "            hero = line.lower().split(',')\n",
    "            if hero[2] == 'male':\n",
    "                ma.write(hero[0] +','+ hero[1] + '\\n')\n",
    "            elif hero[2] == 'female':\n",
    "                fe.write(hero[0] +','+ hero[1] + '\\n')\n",
    "            else:\n",
    "                no.write(hero[0] +','+ hero[1] + '\\n')\n",
    "                \n",
    "            if ('marvel comics' in hero[7]) or ('dc comics' in hero[7]):\n",
    "                marvel.write(hero[1] + '\\n')\n",
    "                \n",
    "            if ('blue' in hero[8]) and ('bad' in hero[9]):\n",
    "                skin_line.append(hero[1])\n",
    "        skin.write('#'.join(skin_line))"
   ]
  },
  {
   "cell_type": "code",
   "execution_count": 6,
   "metadata": {},
   "outputs": [],
   "source": [
    "read_file('heroes_information.csv')"
   ]
  },
  {
   "cell_type": "code",
   "execution_count": null,
   "metadata": {},
   "outputs": [],
   "source": []
  }
 ],
 "metadata": {
  "kernelspec": {
   "display_name": "Python 3",
   "language": "python",
   "name": "python3"
  },
  "language_info": {
   "codemirror_mode": {
    "name": "ipython",
    "version": 3
   },
   "file_extension": ".py",
   "mimetype": "text/x-python",
   "name": "python",
   "nbconvert_exporter": "python",
   "pygments_lexer": "ipython3",
   "version": "3.7.4"
  }
 },
 "nbformat": 4,
 "nbformat_minor": 2
}
