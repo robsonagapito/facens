{
 "cells": [
  {
   "cell_type": "markdown",
   "metadata": {},
   "source": [
    "## Excercício 3\n",
    "\n",
    "### Considere um arquivo CSV (comma separated values) com os seguintes com dados de todas as copas do mundo até o ano de 2014 (WorldCups.csv):\n",
    "- Year - Ano da copa\n",
    "- Country - Pais sede\n",
    "- Winner - Campeão\n",
    "- Runners-Up - Vice-Campeão\n",
    "- Third - Terceiro lugar\n",
    "- Fourth - Quarto Lugar\n",
    "- GoalsScored - Total de Gols\n",
    "- QualifiedTeams - Quantidade de Times\n",
    "- MatchesPlayed - Quantidade de Jogos\n",
    "- Attendance - Publico Total\n",
    "\n",
    "### Pede-se\n",
    "* Crie uma função que efetue a leitura do arquivo e crie um arquivo de saida com as seguintes informações (uma informação por linha):\n",
    "    - Soma de público das copas com anos final 0 (1930, 1950, etc)\n",
    "    - Quantidade total de gols entre as copas de 1954 e 1990, inclusive\n",
    "    - Média de público\n",
    "    - Média de gols por partida\n",
    "    - Quantidade de vezes em que o país sede foi campeão\n",
    "    - Quantidade de vezes em que o time do Brasil ficou entre uma das 4 primeiras posições\n",
    "    - Ano das edições em que o time da França finalizou em terceiro lugar\n",
    "    - Quantidade de vitórias por país, classificada em ordem crescente do número de títulos\n"
   ]
  },
  {
   "cell_type": "code",
   "execution_count": 60,
   "metadata": {},
   "outputs": [],
   "source": [
    "import csv\n",
    "\n",
    "def worldcup(filename):\n",
    "    \n",
    "    public_sum = 0\n",
    "    goals_sum_54_90 = 0\n",
    "    public_average = 0\n",
    "    goals_average = 0\n",
    "    country_champion = 0\n",
    "    brasil_almost_four = 0\n",
    "    count_cups = 0\n",
    "    count_public = 0\n",
    "    count_goals = 0\n",
    "    count_played = 0\n",
    "    \n",
    "    france_third_year = []\n",
    "    champions = {}\n",
    "    \n",
    "    with open(filename, 'r') as f:\n",
    "        # csv reader\n",
    "        reader = csv.DictReader(f)\n",
    "        \n",
    "        for cup in reader:\n",
    "            count_cups += 1\n",
    "            count_public += float(cup['Attendance'].replace('.',''))\n",
    "            count_goals += int(cup['GoalsScored'])\n",
    "            count_played += int(cup['MatchesPlayed']) \n",
    "            \n",
    "            if champions.get(cup['Winner']) is None:\n",
    "                champions[cup['Winner']] = 1\n",
    "            else:\n",
    "                champions[cup['Winner']] += 1\n",
    "            \n",
    "            if int(cup['Year'][-1]) == 0:\n",
    "                public_sum += float(cup['Attendance'].replace('.',''))\n",
    "            if 1954 <= int(cup['Year']) <= 1990:\n",
    "                goals_sum_54_90 += int(cup['GoalsScored'])\n",
    "            if cup['Country'] == cup['Winner']:\n",
    "                country_champion += 1\n",
    "            if cup['Winner'] == 'Brazil' or cup['Runners-Up'] == 'Brazil' or \\\n",
    "               cup['Third'] == 'Brazil' or cup['Fourth'] == 'Brazil':\n",
    "                brasil_almost_four += 1\n",
    "            if cup['Third'] == 'France':\n",
    "                france_third_year.append(cup['Year'])\n",
    "                \n",
    "            winners = sorted(champions.items(), key=lambda kv: kv[1])\n",
    "\n",
    "    print('Publico: ' + str(public_sum))    \n",
    "    print('Gols 54-90: ' + str(goals_sum_54_90))\n",
    "    print('Média de público: ' + str(count_public / count_cups))\n",
    "    print('Média de Gols por partida: ' + str(count_goals / count_played) )\n",
    "    print('País sede campeão: ' + str(country_champion))\n",
    "    print('Brasil entre os 4: ' + str(brasil_almost_four))\n",
    "    print('França em Terceiro: ' + str(france_third_year))\n",
    "    print('Campeões: ' + str(winners))"
   ]
  },
  {
   "cell_type": "code",
   "execution_count": 61,
   "metadata": {},
   "outputs": [
    {
     "name": "stdout",
     "output_type": "stream",
     "text": [
      "Publico: 8934841.0\n",
      "Gols 54-90: 1131\n",
      "Média de público: 1872882.35\n",
      "Média de Gols por partida: 2.8456937799043063\n",
      "País sede campeão: 5\n",
      "Brasil entre os 4: 11\n",
      "França em Terceiro: ['1958', '1986']\n",
      "Campeões: [('England', 1), ('France', 1), ('Spain', 1), ('Germany', 1), ('Uruguay', 2), ('Argentina', 2), ('Germany FR', 3), ('Italy', 4), ('Brazil', 5)]\n"
     ]
    }
   ],
   "source": [
    "worldcup('WorldCups.csv')"
   ]
  },
  {
   "cell_type": "code",
   "execution_count": 20,
   "metadata": {},
   "outputs": [
    {
     "data": {
      "text/plain": [
       "'0'"
      ]
     },
     "execution_count": 20,
     "metadata": {},
     "output_type": "execute_result"
    }
   ],
   "source": [
    "a = ['1990']\n",
    "a[0][-1]\n"
   ]
  }
 ],
 "metadata": {
  "kernelspec": {
   "display_name": "Python 3",
   "language": "python",
   "name": "python3"
  },
  "language_info": {
   "codemirror_mode": {
    "name": "ipython",
    "version": 3
   },
   "file_extension": ".py",
   "mimetype": "text/x-python",
   "name": "python",
   "nbconvert_exporter": "python",
   "pygments_lexer": "ipython3",
   "version": "3.7.4"
  }
 },
 "nbformat": 4,
 "nbformat_minor": 2
}
