{
 "cells": [
  {
   "cell_type": "markdown",
   "metadata": {},
   "source": [
    "## Exercício 2\n",
    "\n",
    "### Considere um arquivo CSV (comma separated values) com informações demográficas sobre super heróis (heroes_information.csv):\n",
    "- id - Numero da linha\n",
    "- name - Nome\n",
    "- Gender - Gênero\n",
    "- Eye color - Cor dos olhos\n",
    "- Race - Raça\n",
    "- Hair color - Cor do cabelo\n",
    "- Height - Altura em centimetros\n",
    "- Publisher - Estúdio\n",
    "- Skin color - Cor da pele\n",
    "- Alignment - Vilão ou herói\n",
    "- Weight - Peso em libras\n",
    "\n",
    "### Pede-se\n",
    "* Crie uma função que efetue a leitura do arquivo e crie:\n",
    "    - Um arquivo de saida (heroes_male.csv) com todos os heróis do gênero masculino (id, name)\n",
    "    - Um arquivo de saida (heroes_female.csv) com todos os heróis do gênero feminino (id, name)\n",
    "    - Um arquivo de saida (heroes_no_gender.csv) com todos os heróis sem gênero defindo (id, name)\n",
    "    - Um arquivo de saida (heroes_mavel_comics.txt) com o nome de todos os heróis dos estúdios Marvel Comics e DC Comics (um nome por linha)\n",
    "    - Um arquivo de saida (heroes_cheater_blue_skin.txt) com o nome de todos os heróis que tenham cor de pele azul e que sejam vilões (uma única linha com os nomes separados por #)\n"
   ]
  },
  {
   "cell_type": "code",
   "execution_count": 5,
   "metadata": {},
   "outputs": [],
   "source": [
    "def read_file(original_file):\n",
    "    with open(original_file) as ori, \\\n",
    "         open('heroes_male.csv',mode='w') as ma, \\\n",
    "         open('heroes_female.csv',mode='w') as fe, \\\n",
    "         open('heroes_no_gender.csv',mode='w') as no, \\\n",
    "         open('heroes_marvel_comics.txt',mode='w') as marvel, \\\n",
    "         open('heroes_cheater_blue_skin.txt',mode='w') as skin:\n",
    "        next(ori)\n",
    "        skin_line = [];\n",
    "        ma.write('id,name\\n')\n",
    "        fe.write('id,name\\n')\n",
    "        no.write('id,name\\n')\n",
    "        for line in ori:\n",
    "            hero = line.lower().split(',')\n",
    "            if hero[2] == 'male':\n",
    "                ma.write(hero[0] +','+ hero[1] + '\\n')\n",
    "            elif hero[2] == 'female':\n",
    "                fe.write(hero[0] +','+ hero[1] + '\\n')\n",
    "            else:\n",
    "                no.write(hero[0] +','+ hero[1] + '\\n')\n",
    "                \n",
    "            if ('marvel comics' in hero[7]) or ('dc comics' in hero[7]):\n",
    "                marvel.write(hero[1] + '\\n')\n",
    "                \n",
    "            if ('blue' in hero[8]) and ('bad' in hero[9]):\n",
    "                skin_line.append(hero[1])\n",
    "        skin.write('#'.join(skin_line))"
   ]
  },
  {
   "cell_type": "code",
   "execution_count": 4,
   "metadata": {},
   "outputs": [
    {
     "ename": "NameError",
     "evalue": "name 'ar' is not defined",
     "output_type": "error",
     "traceback": [
      "\u001b[1;31m---------------------------------------------------------------------------\u001b[0m",
      "\u001b[1;31mNameError\u001b[0m                                 Traceback (most recent call last)",
      "\u001b[1;32m<ipython-input-4-e51bda95e8a3>\u001b[0m in \u001b[0;36m<module>\u001b[1;34m\u001b[0m\n\u001b[1;32m----> 1\u001b[1;33m \u001b[0mread_file\u001b[0m\u001b[1;33m(\u001b[0m\u001b[1;34m'heroes_information.csv'\u001b[0m\u001b[1;33m)\u001b[0m\u001b[1;33m\u001b[0m\u001b[1;33m\u001b[0m\u001b[0m\n\u001b[0m",
      "\u001b[1;32m<ipython-input-3-143b9087ffc1>\u001b[0m in \u001b[0;36mread_file\u001b[1;34m(original_file)\u001b[0m\n\u001b[0;32m     15\u001b[0m             \u001b[1;32mif\u001b[0m \u001b[0mhero\u001b[0m\u001b[1;33m[\u001b[0m\u001b[1;36m2\u001b[0m\u001b[1;33m]\u001b[0m \u001b[1;33m==\u001b[0m \u001b[1;34m'male'\u001b[0m\u001b[1;33m:\u001b[0m\u001b[1;33m\u001b[0m\u001b[1;33m\u001b[0m\u001b[0m\n\u001b[0;32m     16\u001b[0m                 \u001b[0mma\u001b[0m\u001b[1;33m.\u001b[0m\u001b[0mwrite\u001b[0m\u001b[1;33m(\u001b[0m\u001b[0mhero\u001b[0m\u001b[1;33m[\u001b[0m\u001b[1;36m0\u001b[0m\u001b[1;33m]\u001b[0m \u001b[1;33m+\u001b[0m\u001b[1;34m','\u001b[0m\u001b[1;33m+\u001b[0m \u001b[0mhero\u001b[0m\u001b[1;33m[\u001b[0m\u001b[1;36m1\u001b[0m\u001b[1;33m]\u001b[0m \u001b[1;33m+\u001b[0m \u001b[1;34m'\\n'\u001b[0m\u001b[1;33m)\u001b[0m\u001b[1;33m\u001b[0m\u001b[1;33m\u001b[0m\u001b[0m\n\u001b[1;32m---> 17\u001b[1;33m             \u001b[1;32melif\u001b[0m \u001b[0mar\u001b[0m\u001b[1;33m[\u001b[0m\u001b[1;36m2\u001b[0m\u001b[1;33m]\u001b[0m \u001b[1;33m==\u001b[0m \u001b[1;34m'female'\u001b[0m\u001b[1;33m:\u001b[0m\u001b[1;33m\u001b[0m\u001b[1;33m\u001b[0m\u001b[0m\n\u001b[0m\u001b[0;32m     18\u001b[0m                 \u001b[0mfe\u001b[0m\u001b[1;33m.\u001b[0m\u001b[0mwrite\u001b[0m\u001b[1;33m(\u001b[0m\u001b[0mhero\u001b[0m\u001b[1;33m[\u001b[0m\u001b[1;36m0\u001b[0m\u001b[1;33m]\u001b[0m \u001b[1;33m+\u001b[0m\u001b[1;34m','\u001b[0m\u001b[1;33m+\u001b[0m \u001b[0mhero\u001b[0m\u001b[1;33m[\u001b[0m\u001b[1;36m1\u001b[0m\u001b[1;33m]\u001b[0m \u001b[1;33m+\u001b[0m \u001b[1;34m'\\n'\u001b[0m\u001b[1;33m)\u001b[0m\u001b[1;33m\u001b[0m\u001b[1;33m\u001b[0m\u001b[0m\n\u001b[0;32m     19\u001b[0m             \u001b[1;32melse\u001b[0m\u001b[1;33m:\u001b[0m\u001b[1;33m\u001b[0m\u001b[1;33m\u001b[0m\u001b[0m\n",
      "\u001b[1;31mNameError\u001b[0m: name 'ar' is not defined"
     ]
    }
   ],
   "source": [
    "read_file('heroes_information.csv')"
   ]
  },
  {
   "cell_type": "code",
   "execution_count": null,
   "metadata": {},
   "outputs": [],
   "source": []
  }
 ],
 "metadata": {
  "kernelspec": {
   "display_name": "Python 3",
   "language": "python",
   "name": "python3"
  },
  "language_info": {
   "codemirror_mode": {
    "name": "ipython",
    "version": 3
   },
   "file_extension": ".py",
   "mimetype": "text/x-python",
   "name": "python",
   "nbconvert_exporter": "python",
   "pygments_lexer": "ipython3",
   "version": "3.7.4"
  }
 },
 "nbformat": 4,
 "nbformat_minor": 2
}
