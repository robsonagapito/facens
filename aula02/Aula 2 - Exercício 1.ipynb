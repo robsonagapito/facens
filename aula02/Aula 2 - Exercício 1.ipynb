{
 "cells": [
  {
   "cell_type": "markdown",
   "metadata": {},
   "source": [
    "## Exercício 1\n",
    "\n",
    "### Considere um arquivo texto que contem uma lista de arquivos (files.txt). Cada linha desse arquivo, possui as seguintes informações:\n",
    "- Nome do criador do arquivo, 6 posições, alinhado à esquerda\n",
    "- Tamanho do arquivo no formato human-readable size (ex. 2K – 2 kilobytes, 3M – 3 megabytes, 5G – 5 gigabytes, ou o número total de bytes caso menor que 1K), com 7 posições, alinhado à direita sendo o caracter mais à direita um espaço em branco\n",
    "- Data de criação com 11 posições, no formato dd MMM YYYY (ex: 05 Jun 2005), acompanhado de um espaço em branco à direita\n",
    "- Nome do arquivo, até o final da linha\n",
    "\n",
    "### Pede-se\n",
    "- Crie uma função que receba como parâmetro o nome do arquivo\n",
    "- A função deverá abrir o arquivo em modo somente leitura e retornar a quantidade de nomes dos criadores de arquivo únicos considerando que:\n",
    "- O tamanho máximo do arquivo em bytes, seja menor que 2 * (2^20) (2 vezes 2 elevado à vigésima potencia)\n",
    "- A data de criação do arquivo seja anterior à 28 de Fevereiro de 2000.\n"
   ]
  },
  {
   "cell_type": "code",
   "execution_count": 98,
   "metadata": {},
   "outputs": [],
   "source": [
    "from datetime import datetime\n",
    "\n",
    "def search_data(file_name):\n",
    "    def update_size(size):\n",
    "        if size.find('K') > 0:\n",
    "            number = float(size[:-1]) * 1024\n",
    "        elif size.find('M') > 0:\n",
    "            number = float(size[:-1]) * pow(1024,2)\n",
    "        elif size.find('G') > 0:\n",
    "            number = float(size[:-1]) * pow(1024,3)\n",
    "        else:\n",
    "            number = float(size)    \n",
    "        \n",
    "        return number\n",
    "\n",
    "    qtty = 0\n",
    "    linha = {}\n",
    "    limit_date = datetime.strptime('28 Feb 2000', '%d %b %Y') \n",
    "    names=[]\n",
    "    with open(file_name) as file:\n",
    "        for line in file:\n",
    "            linha['name'] = line[0:5]\n",
    "            linha['size'] = update_size(line[6:12])\n",
    "            linha['date'] = datetime.strptime(line[13:24], '%d %b %Y') \n",
    "            \n",
    "            if linha['date'] < limit_date and linha['size'] < (2 * (2**20)):\n",
    "                names.append(linha['name'])\n",
    "                   \n",
    "    qtty = len(set(names))\n",
    "    \n",
    "    return qtty"
   ]
  },
  {
   "cell_type": "code",
   "execution_count": 99,
   "metadata": {},
   "outputs": [
    {
     "name": "stdout",
     "output_type": "stream",
     "text": [
      "4\n"
     ]
    }
   ],
   "source": [
    "print(search_data('files.txt'))"
   ]
  },
  {
   "cell_type": "code",
   "execution_count": null,
   "metadata": {},
   "outputs": [],
   "source": []
  }
 ],
 "metadata": {
  "kernelspec": {
   "display_name": "Python 3",
   "language": "python",
   "name": "python3"
  },
  "language_info": {
   "codemirror_mode": {
    "name": "ipython",
    "version": 3
   },
   "file_extension": ".py",
   "mimetype": "text/x-python",
   "name": "python",
   "nbconvert_exporter": "python",
   "pygments_lexer": "ipython3",
   "version": "3.7.4"
  }
 },
 "nbformat": 4,
 "nbformat_minor": 2
}
