{
 "cells": [
  {
   "cell_type": "code",
   "execution_count": 30,
   "metadata": {},
   "outputs": [],
   "source": [
    "import csv\n",
    "\n",
    "def save_csv(file, content):\n",
    "    with open(file, 'w', newline='') as f:\n",
    "        writer = csv.writer(f)\n",
    "        writer.writerows(content)\n",
    "\n",
    "def save_txt(file, content):\n",
    "    with open(file, 'w') as f:\n",
    "        f.writelines(content)\n",
    "\n",
    "def process_file(filename):\n",
    "    # open input file for reading\n",
    "    with open(filename, 'r') as f:\n",
    "        # csv reader\n",
    "        reader = csv.reader(f)\n",
    "\n",
    "        # create lists\n",
    "        header = next(reader)[0:2]\n",
    "        males = [header]\n",
    "        females = [header]\n",
    "        without_gender = [header]\n",
    "        heroes_studios = []\n",
    "        heroes_bad = []\n",
    "\n",
    "\n",
    "        # iterate over file lines\n",
    "        for hero in reader:\n",
    "            # split by gender\n",
    "            csv_content = [hero[0].strip(), hero[1].strip()]\n",
    "            if hero[2].strip().lower() == 'male':\n",
    "                males.append(csv_content)\n",
    "            elif hero[2].strip().lower() == 'female':\n",
    "                females.append(csv_content)\n",
    "            else:\n",
    "                without_gender.append(csv_content)\n",
    "\n",
    "            # split by studio\n",
    "            if(hero[7].strip().lower() == 'dc comics' or\n",
    "                hero[7].strip().lower() == 'marvel comics'):\n",
    "                heroes_studios.append(hero[1] + '\\n')\n",
    "\n",
    "            # split by alignment\n",
    "            if(hero[8].strip().lower() == 'blue' and\n",
    "                hero[9].strip().lower() == 'bad'):\n",
    "                heroes_bad.append(hero[1])\n",
    "\n",
    "        # save cvs files\n",
    "        save_csv('heroes_male.csv', males)\n",
    "        save_csv('heroes_female.csv', females)\n",
    "        save_csv('heroes_without_gender.csv', without_gender)\n",
    "        \n",
    "        # save txt files\n",
    "        save_txt('heroes_mavel_comics.txt', heroes_studios)\n",
    "        save_txt('heroes_cheater_blue_skin.txt', '#'.join(heroes_bad) + '\\n')"
   ]
  },
  {
   "cell_type": "code",
   "execution_count": 31,
   "metadata": {},
   "outputs": [],
   "source": [
    "process_file('heroes_information.csv')"
   ]
  },
  {
   "cell_type": "code",
   "execution_count": 37,
   "metadata": {},
   "outputs": [
    {
     "name": "stdout",
     "output_type": "stream",
     "text": [
      "['id', 'name']\n"
     ]
    }
   ],
   "source": [
    " with open('heroes_information.csv', 'r') as f:\n",
    "        # csv reader\n",
    "        reader = csv.reader(f)\n",
    "\n",
    "        # create lists\n",
    "        print(next(reader)[0:2])"
   ]
  },
  {
   "cell_type": "code",
   "execution_count": null,
   "metadata": {},
   "outputs": [],
   "source": []
  }
 ],
 "metadata": {
  "kernelspec": {
   "display_name": "Python 3",
   "language": "python",
   "name": "python3"
  },
  "language_info": {
   "codemirror_mode": {
    "name": "ipython",
    "version": 3
   },
   "file_extension": ".py",
   "mimetype": "text/x-python",
   "name": "python",
   "nbconvert_exporter": "python",
   "pygments_lexer": "ipython3",
   "version": "3.7.4"
  }
 },
 "nbformat": 4,
 "nbformat_minor": 2
}
