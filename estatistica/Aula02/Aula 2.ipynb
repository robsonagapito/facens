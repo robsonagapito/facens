{
 "cells": [
  {
   "cell_type": "code",
   "execution_count": 87,
   "metadata": {},
   "outputs": [
    {
     "name": "stdout",
     "output_type": "stream",
     "text": [
      "[-2.42272706  0.41007132  0.63646704  0.19635863  0.23738517 -2.14016151\n",
      " -2.6081023  -0.19432611  0.96479978  0.03370458]\n",
      "0.8128037452697754\n",
      "0.02073599584400654\n"
     ]
    }
   ],
   "source": [
    "# Teste de normalidade\n",
    "\n",
    "from scipy.stats import shapiro\n",
    "import numpy as np\n",
    "\n",
    "x = np.random.randn(10)\n",
    "stats, p = shapiro(x)\n",
    "print(x)\n",
    "print(stats)\n",
    "print(p)"
   ]
  },
  {
   "cell_type": "code",
   "execution_count": 115,
   "metadata": {},
   "outputs": [
    {
     "name": "stdout",
     "output_type": "stream",
     "text": [
      "10043.340810654765 1029.3340792024567\n",
      "990.9694514491368 100.49655728530725\n",
      "1014.0122904360738 101.29025462102554\n",
      "Ttest_1sampResult(statistic=0.2947397552584894, pvalue=0.7694378504646149)\n",
      "Ttest_indResult(statistic=61.269449580631246, pvalue=6.059731040410914e-80)\n",
      "Ttest_indResult(statistic=-1.1304539734476307, pvalue=0.2610440687660808)\n",
      "Ttest_indResult(statistic=-61.10891319822339, pvalue=7.785682479580264e-80)\n"
     ]
    }
   ],
   "source": [
    "from scipy.stats import norm\n",
    "from scipy import stats\n",
    "\n",
    "x1 = norm.rvs(loc=10000, scale=1000, size=50)\n",
    "x2 = norm.rvs(loc=1000, scale=100, size=50)\n",
    "x3 = norm.rvs(loc=1000, scale=100, size=50)\n",
    "\n",
    "print(x1.mean(), x1.std())\n",
    "print(x2.mean(), x2.std())\n",
    "print(x3.mean(), x3.std())\n",
    "\n",
    "\n",
    "print(stats.ttest_1samp(x1,10000))\n",
    "\n",
    "# verficando a média entre os valores x1, x2 e x3 considerando percentual de possível erro\n",
    "print(stats.ttest_ind(x1,x2))\n",
    "print(stats.ttest_ind(x2,x3))\n",
    "print(stats.ttest_ind(x3,x1))\n"
   ]
  },
  {
   "cell_type": "code",
   "execution_count": 129,
   "metadata": {
    "scrolled": false
   },
   "outputs": [
    {
     "data": {
      "image/png": "[encoded data removed]",
      "text/plain": [
       "<Figure size 432x288 with 1 Axes>"
      ]
     },
     "metadata": {
      "needs_background": "light"
     },
     "output_type": "display_data"
    },
    {
     "name": "stdout",
     "output_type": "stream",
     "text": [
      "                                 OLS Regression Results                                \n",
      "=======================================================================================\n",
      "Dep. Variable:                    x19   R-squared (uncentered):                   0.990\n",
      "Model:                            OLS   Adj. R-squared (uncentered):              0.989\n",
      "Method:                 Least Squares   F-statistic:                              883.6\n",
      "Date:                Sat, 05 Dec 2020   Prob (F-statistic):                    2.95e-85\n",
      "Time:                        16:39:16   Log-Likelihood:                         -106.91\n",
      "No. Observations:                 100   AIC:                                      233.8\n",
      "Df Residuals:                      90   BIC:                                      259.9\n",
      "Df Model:                          10                                                  \n",
      "Covariance Type:            nonrobust                                                  \n",
      "==============================================================================\n",
      "                 coef    std err          t      P>|t|      [0.025      0.975]\n",
      "------------------------------------------------------------------------------\n",
      "x9             0.2516      0.132      1.901      0.060      -0.011       0.515\n",
      "x10            0.0168      0.082      0.206      0.837      -0.145       0.179\n",
      "x11            0.6483      0.225      2.886      0.005       0.202       1.095\n",
      "x12            0.5896      0.089      6.609      0.000       0.412       0.767\n",
      "x13           -0.0502      0.061     -0.827      0.411      -0.171       0.070\n",
      "x14           -0.0550      0.092     -0.596      0.552      -0.238       0.128\n",
      "x15            0.0321      0.051      0.632      0.529      -0.069       0.133\n",
      "x16            0.2432      0.132      1.837      0.070      -0.020       0.506\n",
      "x17            0.2193      0.244      0.898      0.372      -0.266       0.705\n",
      "x18           -0.7318      0.493     -1.486      0.141      -1.710       0.247\n",
      "==============================================================================\n",
      "Omnibus:                        3.406   Durbin-Watson:                   2.300\n",
      "Prob(Omnibus):                  0.182   Jarque-Bera (JB):                2.200\n",
      "Skew:                          -0.152   Prob(JB):                        0.333\n",
      "Kurtosis:                       2.340   Cond. No.                         130.\n",
      "==============================================================================\n",
      "\n",
      "Notes:\n",
      "[1] R² is computed without centering (uncentered) since the model does not contain a constant.\n",
      "[2] Standard Errors assume that the covariance matrix of the errors is correctly specified.\n"
     ]
    }
   ],
   "source": [
    "import numpy as ns\n",
    "import pandas as pd\n",
    "import statsmodels.api as sm\n",
    "import matplotlib.pyplot as plt\n",
    "\n",
    "arquivo = pd.read_csv(\"HBAT.csv\");\n",
    "\n",
    "X = pd.DataFrame(arquivo[['x9','x10','x11','x12','x13','x14','x15','x16','x17','x18']])\n",
    "y = pd.DataFrame(arquivo['x19'])\n",
    "\n",
    "x = sm.add_constant(X)\n",
    "model = sm.OLS(y,X).fit()\n",
    "predictions = model.predict(X)\n",
    "plt.plot(X, y,'ro')\n",
    "plt.show()\n",
    "print(model.summary())\n",
    "\n",
    "# X = pd.DataFrame(arquivo['x14'])\n",
    "# y = pd.DataFrame(arquivo['x19'])\n",
    "\n",
    "# x = sm.add_constant(X)\n",
    "# model = sm.OLS(y,X).fit()\n",
    "# predictions = model.predict(X)\n",
    "# plt.plot(X, y,'ro')\n",
    "# plt.show()\n",
    "# print(model.summary())\n"
   ]
  },
  {
   "cell_type": "code",
   "execution_count": null,
   "metadata": {},
   "outputs": [],
   "source": []
  },
  {
   "cell_type": "code",
   "execution_count": null,
   "metadata": {},
   "outputs": [],
   "source": []
  },
  {
   "cell_type": "code",
   "execution_count": null,
   "metadata": {},
   "outputs": [],
   "source": []
  },
  {
   "cell_type": "code",
   "execution_count": null,
   "metadata": {},
   "outputs": [],
   "source": []
  },
  {
   "cell_type": "code",
   "execution_count": null,
   "metadata": {},
   "outputs": [],
   "source": []
  },
  {
   "cell_type": "code",
   "execution_count": null,
   "metadata": {},
   "outputs": [],
   "source": []
  }
 ],
 "metadata": {
  "kernelspec": {
   "display_name": "Python 3",
   "language": "python",
   "name": "python3"
  },
  "language_info": {
   "codemirror_mode": {
    "name": "ipython",
    "version": 3
   },
   "file_extension": ".py",
   "mimetype": "text/x-python",
   "name": "python",
   "nbconvert_exporter": "python",
   "pygments_lexer": "ipython3",
   "version": "3.7.4"
  }
 },
 "nbformat": 4,
 "nbformat_minor": 4
}
