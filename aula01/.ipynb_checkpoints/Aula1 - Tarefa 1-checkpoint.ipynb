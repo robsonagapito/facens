{
 "cells": [
  {
   "cell_type": "markdown",
   "metadata": {},
   "source": [
    "## Exercício 1\n",
    "\n",
    "### Crie uma função com o nome _prime_number_ que receberá um número como argumento. \n",
    "### Regras:\n",
    "* O argumento recebido pela função deverá ser inteiro e positivo e maior que zero, caso negativo deverá retornar a mensagem \"invalid argument\"\n",
    "* Caso o argumento recebido seja válido, a função deverá verificar se trata-se de um número primo e caso positivo, retornar a mensagem \"prime number\", caso contrário \"not a prime number\"\n",
    "* O valor máximo que a função calculará é de 5,5 * 10^7. Caso o número passado como argumento seja maior, retornar a mensagem \"argument out of range\""
   ]
  },
  {
   "cell_type": "code",
   "execution_count": 2,
   "metadata": {},
   "outputs": [],
   "source": [
    "def prime_argument(number):\n",
    "    \n",
    "    def is_prime(aux_number):\n",
    "        index = [2,3,5,7]\n",
    "        result = \"prime number\"\n",
    "        for i in index:\n",
    "            if (aux_number % i == 0 ) and (aux_number > i):\n",
    "                result = \"not a prime number\"\n",
    "                break\n",
    "        return result\n",
    "    \n",
    "    res = \"\"\n",
    "    if (type(number) != int) or (number<=0):\n",
    "        res = \"invalid argument\"\n",
    "    elif (number > (5.5 * (10 ** 7))):\n",
    "        res = \"argument out of range\"\n",
    "    elif (number == 1):\n",
    "        res = \"not a prime number\"\n",
    "    else:\n",
    "        res = is_prime(number)\n",
    "        \n",
    "    return str(number) + \": \" + res\n",
    "        "
   ]
  },
  {
   "cell_type": "code",
   "execution_count": 3,
   "metadata": {},
   "outputs": [
    {
     "name": "stdout",
     "output_type": "stream",
     "text": [
      "-1: invalid argument\n",
      "0: invalid argument\n",
      "2.3: invalid argument\n",
      "aaa: invalid argument\n",
      "1: not a prime number\n",
      "2: prime number\n",
      "3: prime number\n",
      "4: not a prime number\n",
      "5: prime number\n",
      "9: not a prime number\n",
      "11: prime number\n",
      "13: prime number\n",
      "25: not a prime number\n",
      "43: prime number\n",
      "49: not a prime number\n",
      "100: not a prime number\n",
      "55000000: not a prime number\n",
      "55000001: argument out of range\n"
     ]
    }
   ],
   "source": [
    "print(prime_argument(-1))\n",
    "print(prime_argument(0))\n",
    "print(prime_argument(2.3))\n",
    "print(prime_argument(\"aaa\"))\n",
    "print(prime_argument(1))\n",
    "print(prime_argument(2))\n",
    "print(prime_argument(3))\n",
    "print(prime_argument(4))\n",
    "print(prime_argument(5))\n",
    "print(prime_argument(9))\n",
    "print(prime_argument(11))\n",
    "print(prime_argument(13))\n",
    "print(prime_argument(25))\n",
    "print(prime_argument(43))\n",
    "print(prime_argument(49))\n",
    "print(prime_argument(100))\n",
    "print(prime_argument(55000000))\n",
    "print(prime_argument(55000001))\n",
    "\n"
   ]
  },
  {
   "cell_type": "markdown",
   "metadata": {},
   "source": [
    "## Exercício 2\n",
    "\n",
    "### Crie uma função com o nome _sum_of_products_ que receba duas listas numéricas como argumento.\n",
    "\n",
    "### Regras:\n",
    "* Verificar todo o conteúdo das duas listas e retornar a mensagem de erro \"wrong number\" caso algum elemento não seja um número\n",
    "* A função deverá retornar a soma dos produtos de elementos de mesmo indice de cada lista\n",
    "* Caso uma das listas tenha mais elementos que a outra, considere o valor 1 para o produto com cada elemento da lista com maior número de elementos\n",
    "* Caso as duas listas estejam vazias, retornar -1."
   ]
  },
  {
   "cell_type": "code",
   "execution_count": 36,
   "metadata": {},
   "outputs": [],
   "source": [
    "def sum_of_products(list1, list2):\n",
    "    \n",
    "    def check_list(list_aux):\n",
    "        check = True\n",
    "        for l in list_aux:\n",
    "            if type(l) not in [int, float]:\n",
    "                check = False\n",
    "                break\n",
    "        return check\n",
    "    \n",
    "    def return_element(list_aux, indice):\n",
    "        element_result = list_aux[indice] if len(list_aux)-1 >= indice else 1  \n",
    "        return element_result\n",
    "\n",
    "    res = 0\n",
    "    bigger_number = len(list1) if (len(list1) > len(list2)) else len(list2)\n",
    "    if (bigger_number == 0):\n",
    "        res = -1\n",
    "    else:\n",
    "        if check_list(list1):\n",
    "            if check_list(list2):\n",
    "                for n in range(bigger_number):\n",
    "                    res += (return_element(list1,n) * return_element(list2,n))\n",
    "            else:\n",
    "                res = \"wrong number\"\n",
    "        else:\n",
    "            res = \"wrong number\"\n",
    "        \n",
    "    return res"
   ]
  },
  {
   "cell_type": "code",
   "execution_count": 85,
   "metadata": {},
   "outputs": [
    {
     "name": "stdout",
     "output_type": "stream",
     "text": [
      "result (14): 14\n",
      "result (wrong number): wrong number\n",
      "result (wrong number): wrong number\n",
      "result (-1): -1\n",
      "result (8): 8\n",
      "result (30): 30\n",
      "result (14.3): 14.3\n",
      "result (14.6): 14.6\n"
     ]
    }
   ],
   "source": [
    "print('result (14): ' + str(sum_of_products([0,1,2,3], [0,1,2,3])))\n",
    "print('result (wrong number): ' + str(sum_of_products([a,1,2,3], [0,1,2,3])))\n",
    "print('result (wrong number): ' + str(sum_of_products([0,1,2,3], [0,a,2,3])))\n",
    "print('result (-1): ' + str(sum_of_products([], [])))\n",
    "print('result (8): ' + str(sum_of_products([0,1,2,3], [0,1,2])))\n",
    "print('result (30): ' + str(sum_of_products([4,3,2], [4,2,3,2])))\n",
    "print('result (14.3): ' + str(sum_of_products([0,1.3,2,3], [0,1,2,3])))\n",
    "print('result (14.6): ' + str(sum_of_products([0,1,2,3], [0,1,2.3,3])))"
   ]
  },
  {
   "cell_type": "markdown",
   "metadata": {},
   "source": [
    "<hr>"
   ]
  },
  {
   "cell_type": "markdown",
   "metadata": {},
   "source": [
    "## Exercício 3\n",
    "\n",
    "### Supondo que a população de um país A seja da ordem de 90.000.000 habitantes com uma taxa anual de crescimento de 3% ao ano e que a população de um país B seja aproximadamente de 200.000.000 habitantes com uma taxa anual de cresciemento de 1,5% ao ano\n",
    "\n",
    "### Crie uma função de nome _growth_ que calcule e retorne o número de anos necessários para que a população do país A ultrapasse ou iguale a população do país B, mantidas essas taxas de crescimento.\n",
    "\n",
    "### Regras:\n",
    "* A função deverá receber 4 argumentos, population_a, growth_rate_a, population_b e growth_rate_b, verificar se são numéricos inteiros e maiores que zero\n",
    "* Caso um dos argumentos não obedeça a condição acima, a função deverá retornar a mensagem \"invalid argument\""
   ]
  },
  {
   "cell_type": "code",
   "execution_count": 6,
   "metadata": {},
   "outputs": [],
   "source": [
    "def growth(population_a, growth_rate_a, population_b, growth_rate_b):\n",
    "    \n",
    "    def is_invalid(number):\n",
    "        if ((type(number) != int) or (number <= 0)): \n",
    "            return True\n",
    "        else:\n",
    "            return False\n",
    "    \n",
    "    if (is_invalid(population_a) or is_invalid(population_b) or is_invalid(growth_rate_a) or is_invalid(growth_rate_b)):\n",
    "        ano = 'invalid argument'\n",
    "    else:\n",
    "        sum_pop_a = population_a\n",
    "        sum_pop_b = 0 if population_a > population_b else population_b\n",
    "        ano = 0\n",
    "        while (sum_pop_a < sum_pop_b):\n",
    "            ano += 1\n",
    "            sum_pop_a += (sum_pop_a*growth_rate_a/100)\n",
    "            sum_pop_b += (sum_pop_b*growth_rate_b/100)\n",
    "            if (ano > 10000): \n",
    "                break\n",
    "           \n",
    "    return ano"
   ]
  },
  {
   "cell_type": "code",
   "execution_count": 11,
   "metadata": {},
   "outputs": [
    {
     "name": "stdout",
     "output_type": "stream",
     "text": [
      "Result (41): 41\n",
      "Result (invalid number): invalid argument\n",
      "Result (invalid number): invalid argument\n",
      "Result (invalid number): invalid argument\n",
      "Result (invalid number): invalid argument\n",
      "Result (invalid number): invalid argument\n",
      "Result (invalid number): invalid argument\n",
      "Result (invalid number): invalid argument\n",
      "Result (invalid number): invalid argument\n",
      "Result (invalid number): invalid argument\n",
      "Result (0): 0\n",
      "Result (0): 0\n",
      "Result (2): 2\n"
     ]
    }
   ],
   "source": [
    "print('Result (41): ' + str(growth(90000000,3,200000000,1)))\n",
    "print('Result (invalid number): ' + str(growth('a',3,200000000,1)))\n",
    "print('Result (invalid number): ' + str(growth(90000000,'a',200000000,1)))\n",
    "print('Result (invalid number): ' + str(growth(90000000,3,'a',1)))\n",
    "print('Result (invalid number): ' + str(growth(90000000,3,200000000,'a')))\n",
    "print('Result (invalid number): ' + str(growth(0,3,200000000,1)))\n",
    "print('Result (invalid number): ' + str(growth(90000000,0,200000000,1)))\n",
    "print('Result (invalid number): ' + str(growth(90000000,3,0,1)))\n",
    "print('Result (invalid number): ' + str(growth(90000000,3,200000000,0)))\n",
    "print('Result (invalid number): ' + str(growth(10,1.5,10,1)))\n",
    "print('Result (0): ' + str(growth(10,3,10,1)))\n",
    "print('Result (0): ' + str(growth(11,3,10,1)))\n",
    "print('Result (2): ' + str(growth(8,30,10,10)))"
   ]
  },
  {
   "cell_type": "markdown",
   "metadata": {},
   "source": [
    "<hr>"
   ]
  },
  {
   "cell_type": "markdown",
   "metadata": {},
   "source": [
    "## Exercício 4\n",
    "\n",
    "### Crie uma função chamada _count_list_ que receberá uma lista de números como argumento.\n",
    "\n",
    "### A função deverá retornar um *dictionary* com as seguintes informações a respeito dos elementos da lista:\n",
    "* **max** - o maior elemento\n",
    "* **sum** - a soma dos elementos\n",
    "* **occurs** - o número de ocorrências do primeiro elemento da lista\n",
    "* **mean** - a média dos elementos\n",
    "* **near-mean** - o valor mais próximo da média dos elementos\n",
    "* **minus** - a soma dos elementos com valor negativo"
   ]
  },
  {
   "cell_type": "code",
   "execution_count": 28,
   "metadata": {},
   "outputs": [],
   "source": [
    "def count_list(lista):\n",
    "    def near_mean(list_aux): \n",
    "        mean = sum(list_aux) / len(list_aux)\n",
    "        return list_aux[min(range(len(list_aux)), key = lambda i: abs(list_aux[i]-mean))] \n",
    "    \n",
    "    def occurs(list_aux, indice):\n",
    "        aux = 0\n",
    "        for l in list_aux:\n",
    "            if (l == indice):\n",
    "               aux += 1\n",
    "        return aux\n",
    "            \n",
    "    \n",
    "    def minus(list_aux):\n",
    "        res = 0\n",
    "        for l in list_aux:\n",
    "            if (l < 0):\n",
    "               res += l\n",
    "        return res\n",
    "    \n",
    "    resultado = {}\n",
    "    if len(lista) > 0:\n",
    "        resultado['max'] = max(lista)\n",
    "        resultado['sum'] = sum(lista)\n",
    "        resultado['occurs'] = occurs(lista, lista[0])\n",
    "        resultado['mean'] = sum(lista) / len(lista)\n",
    "        resultado['near-mean'] = near_mean(lista)\n",
    "        resultado['minus'] = minus(lista)\n",
    "        \n",
    "    \n",
    "    return resultado"
   ]
  },
  {
   "cell_type": "code",
   "execution_count": 32,
   "metadata": {},
   "outputs": [
    {
     "name": "stdout",
     "output_type": "stream",
     "text": [
      "{'max': 6, 'sum': 22, 'occurs': 3, 'mean': 3.6666666666666665, 'near-mean': 4, 'minus': 0}\n",
      "{}\n",
      "{'max': 8, 'sum': 6, 'occurs': 1, 'mean': 1.5, 'near-mean': 2, 'minus': -4}\n",
      "{'max': 0, 'sum': 0, 'occurs': 2, 'mean': 0.0, 'near-mean': 0, 'minus': 0}\n"
     ]
    }
   ],
   "source": [
    "print(count_list([4,1,3,4,6,4]))\n",
    "print(count_list([]))\n",
    "print(count_list([-1,2,-3,8]))\n",
    "print(count_list([0,0]))\n"
   ]
  }
 ],
 "metadata": {
  "kernelspec": {
   "display_name": "Python 3",
   "language": "python",
   "name": "python3"
  },
  "language_info": {
   "codemirror_mode": {
    "name": "ipython",
    "version": 3
   },
   "file_extension": ".py",
   "mimetype": "text/x-python",
   "name": "python",
   "nbconvert_exporter": "python",
   "pygments_lexer": "ipython3",
   "version": "3.7.4"
  }
 },
 "nbformat": 4,
 "nbformat_minor": 2
}
