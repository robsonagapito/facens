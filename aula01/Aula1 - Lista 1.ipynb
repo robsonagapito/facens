{
 "cells": [
  {
   "cell_type": "markdown",
   "metadata": {},
   "source": [
    "## Exercício 1\n",
    "\n",
    "### Escreva uma função que receba três parâmetros (a, b e c) inteiros e retorne o maior valor entre os argumentos passados"
   ]
  },
  {
   "cell_type": "code",
   "execution_count": 20,
   "metadata": {},
   "outputs": [
    {
     "data": {
      "text/plain": [
       "[3]"
      ]
     },
     "execution_count": 20,
     "metadata": {},
     "output_type": "execute_result"
    }
   ],
   "source": [
    "def maior_numero(num1, num2, num3):\n",
    "    tot = [num1, num2, num3]\n",
    "    tot.sort()\n",
    "    return tot[2:]\n",
    "\n",
    "maior_numero(2,1,3)"
   ]
  },
  {
   "cell_type": "markdown",
   "metadata": {},
   "source": [
    "## Exercício 2\n",
    "\n",
    "### Escreva uma função que receba uma lista de números e retorne uma tupla com duas listas, a primeira contendo todos os numeros pares e a segunda contendo todos os numeros impares ordenados"
   ]
  },
  {
   "cell_type": "code",
   "execution_count": 19,
   "metadata": {},
   "outputs": [
    {
     "data": {
      "text/plain": [
       "([0, 2, 4, 6, 8, 10], [1, 3, 5, 7, 9])"
      ]
     },
     "execution_count": 19,
     "metadata": {},
     "output_type": "execute_result"
    }
   ],
   "source": [
    "def retorna_pares_impares(lista):\n",
    "    lista.sort()\n",
    "    par = []\n",
    "    impar = []\n",
    "    for valor in lista:\n",
    "        if (valor % 2) == 0:\n",
    "            par.append(valor)\n",
    "        else: \n",
    "            impar.append(valor)\n",
    "    tupla = (par, impar)\n",
    "    return tupla\n",
    "\n",
    "retorna_pares_impares([0,1,2,3,4,5,6,7,8,9,10])"
   ]
  },
  {
   "cell_type": "markdown",
   "metadata": {},
   "source": [
    "## Exercício 3\n",
    "\n",
    "### Escreva uma função que receba dois valores inteiros positivos, e retorne a soma da sequencia numérica inteira entre o primeiro e o segundo parâmetros, inclusive"
   ]
  },
  {
   "cell_type": "code",
   "execution_count": 45,
   "metadata": {},
   "outputs": [
    {
     "data": {
      "text/plain": [
       "15"
      ]
     },
     "execution_count": 45,
     "metadata": {},
     "output_type": "execute_result"
    }
   ],
   "source": [
    "def soma_tudo(num1, num2):\n",
    "    res = 0\n",
    "    \n",
    "    if num2 < num1:\n",
    "        num1, num2 = num2, num1\n",
    "        \n",
    "    for valor in range(num1, num2+1):\n",
    "        res += valor\n",
    "        \n",
    "    return res\n",
    "\n",
    "soma_tudo(5,1)"
   ]
  },
  {
   "cell_type": "markdown",
   "metadata": {},
   "source": [
    "## Exercício 4\n",
    "\n",
    "### Dado um número inteiro não negativo (n), escreva duas funções sendo a primeira usando estruturas de repetição FOR e a segunda usando estruturas de repetição WHILE, que retornem o fatorial de n (n!)’"
   ]
  },
  {
   "cell_type": "code",
   "execution_count": 42,
   "metadata": {},
   "outputs": [
    {
     "data": {
      "text/plain": [
       "24"
      ]
     },
     "execution_count": 42,
     "metadata": {},
     "output_type": "execute_result"
    }
   ],
   "source": [
    "def fatorial_com_for(num):\n",
    "    res = 0\n",
    "    if num < 0:\n",
    "        res = 0\n",
    "    elif num == 0:\n",
    "        res = 1\n",
    "    else:\n",
    "        res = 1\n",
    "        for valor in range(1, num + 1):\n",
    "            res *= valor\n",
    "    return res\n",
    "\n",
    "fatorial_com_for(4)\n",
    "    "
   ]
  },
  {
   "cell_type": "code",
   "execution_count": 43,
   "metadata": {},
   "outputs": [
    {
     "data": {
      "text/plain": [
       "24"
      ]
     },
     "execution_count": 43,
     "metadata": {},
     "output_type": "execute_result"
    }
   ],
   "source": [
    "def fatorial_com_while(num):\n",
    "    res = 0\n",
    "    if num < 0:\n",
    "        res = 0\n",
    "    elif num == 0:\n",
    "        res = 1\n",
    "    else:\n",
    "        res = 1\n",
    "        valor = 1\n",
    "        while valor < num:\n",
    "            valor += 1\n",
    "            res *= valor\n",
    "    return res\n",
    "\n",
    "fatorial_com_while(4)\n"
   ]
  }
 ],
 "metadata": {
  "kernelspec": {
   "display_name": "Python 3",
   "language": "python",
   "name": "python3"
  },
  "language_info": {
   "codemirror_mode": {
    "name": "ipython",
    "version": 3
   },
   "file_extension": ".py",
   "mimetype": "text/x-python",
   "name": "python",
   "nbconvert_exporter": "python",
   "pygments_lexer": "ipython3",
   "version": "3.7.4"
  }
 },
 "nbformat": 4,
 "nbformat_minor": 2
}
