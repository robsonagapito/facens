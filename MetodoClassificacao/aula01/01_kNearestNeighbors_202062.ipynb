{
  "nbformat": 4,
  "nbformat_minor": 0,
  "metadata": {
    "anaconda-cloud": {},
    "colab": {
      "name": "01_kNearestNeighbors _normalizado.ipynb",
      "provenance": [],
      "collapsed_sections": []
    },
    "kernelspec": {
      "display_name": "Python 3",
      "language": "python",
      "name": "python3"
    },
    "language_info": {
      "codemirror_mode": {
        "name": "ipython",
        "version": 3
      },
      "file_extension": ".py",
      "mimetype": "text/x-python",
      "name": "python",
      "nbconvert_exporter": "python",
      "pygments_lexer": "ipython3",
      "version": "3.9.4"
    }
  },
  "cells": [
    {
      "cell_type": "markdown",
      "metadata": {
        "id": "5Q2Wp5F1T-cf"
      },
      "source": [
        "### Tarefa do Encontro 1 - Métodos de Classificação Edit KNN\n",
        "\n",
        "### Aluno: Henrique Seschin Neto: R.A: 202083\n",
        "\n",
        "### Aluno: Robson Agapito Correa: R.A: 202062\n"
      ]
    },
    {
      "cell_type": "markdown",
      "metadata": {
        "id": "muXBtQptJdoF"
      },
      "source": [
        "## 01 - K-Nearest Neighbors\n",
        "\n",
        "---\n",
        "\n",
        "Vamos iniciar carregando os dados, embaralhando as amostras, e separando 100 amostras para teste e 50 amostras para treino,"
      ]
    },
    {
      "cell_type": "code",
      "metadata": {
        "id": "V0E7sKZoJdoJ"
      },
      "source": [
        "import numpy as np\n",
        "import pandas as pd\n",
        "\n",
        "df_dataset = pd.read_csv('iris.csv', sep=',', index_col=None)"
      ],
      "execution_count": 235,
      "outputs": []
    },
    {
      "cell_type": "code",
      "metadata": {
        "id": "yycsBbH1JdoK",
        "colab": {
          "base_uri": "https://localhost:8080/",
          "height": 204
        },
        "outputId": "0748b08a-54ad-4c93-ec4e-7a049029f37c"
      },
      "source": [
        "df_dataset.head()"
      ],
      "execution_count": 236,
      "outputs": [
        {
          "output_type": "execute_result",
          "data": {
            "text/html": [
              "<div>\n",
              "<style scoped>\n",
              "    .dataframe tbody tr th:only-of-type {\n",
              "        vertical-align: middle;\n",
              "    }\n",
              "\n",
              "    .dataframe tbody tr th {\n",
              "        vertical-align: top;\n",
              "    }\n",
              "\n",
              "    .dataframe thead th {\n",
              "        text-align: right;\n",
              "    }\n",
              "</style>\n",
              "<table border=\"1\" class=\"dataframe\">\n",
              "  <thead>\n",
              "    <tr style=\"text-align: right;\">\n",
              "      <th></th>\n",
              "      <th>comprimento_sepala</th>\n",
              "      <th>largura_sepala</th>\n",
              "      <th>comprimento_petala</th>\n",
              "      <th>largura_petala</th>\n",
              "      <th>classe</th>\n",
              "    </tr>\n",
              "  </thead>\n",
              "  <tbody>\n",
              "    <tr>\n",
              "      <th>0</th>\n",
              "      <td>5.1</td>\n",
              "      <td>3.5</td>\n",
              "      <td>1.4</td>\n",
              "      <td>0.2</td>\n",
              "      <td>Iris-setosa</td>\n",
              "    </tr>\n",
              "    <tr>\n",
              "      <th>1</th>\n",
              "      <td>4.9</td>\n",
              "      <td>3.0</td>\n",
              "      <td>1.4</td>\n",
              "      <td>0.2</td>\n",
              "      <td>Iris-setosa</td>\n",
              "    </tr>\n",
              "    <tr>\n",
              "      <th>2</th>\n",
              "      <td>4.7</td>\n",
              "      <td>3.2</td>\n",
              "      <td>1.3</td>\n",
              "      <td>0.2</td>\n",
              "      <td>Iris-setosa</td>\n",
              "    </tr>\n",
              "    <tr>\n",
              "      <th>3</th>\n",
              "      <td>4.6</td>\n",
              "      <td>3.1</td>\n",
              "      <td>1.5</td>\n",
              "      <td>0.2</td>\n",
              "      <td>Iris-setosa</td>\n",
              "    </tr>\n",
              "    <tr>\n",
              "      <th>4</th>\n",
              "      <td>5.0</td>\n",
              "      <td>3.6</td>\n",
              "      <td>1.4</td>\n",
              "      <td>0.2</td>\n",
              "      <td>Iris-setosa</td>\n",
              "    </tr>\n",
              "  </tbody>\n",
              "</table>\n",
              "</div>"
            ],
            "text/plain": [
              "   comprimento_sepala  largura_sepala  ...  largura_petala       classe\n",
              "0                 5.1             3.5  ...             0.2  Iris-setosa\n",
              "1                 4.9             3.0  ...             0.2  Iris-setosa\n",
              "2                 4.7             3.2  ...             0.2  Iris-setosa\n",
              "3                 4.6             3.1  ...             0.2  Iris-setosa\n",
              "4                 5.0             3.6  ...             0.2  Iris-setosa\n",
              "\n",
              "[5 rows x 5 columns]"
            ]
          },
          "metadata": {},
          "execution_count": 236
        }
      ]
    },
    {
      "cell_type": "code",
      "metadata": {
        "id": "lGwRc-dNJdoL"
      },
      "source": [
        "from sklearn.utils import shuffle\n",
        "df_dataset = shuffle(df_dataset, random_state=42)"
      ],
      "execution_count": 237,
      "outputs": []
    },
    {
      "cell_type": "code",
      "metadata": {
        "id": "r5uX0rtPJdoL",
        "colab": {
          "base_uri": "https://localhost:8080/",
          "height": 204
        },
        "outputId": "c39996f0-3723-46fb-f50f-72c5c136168a"
      },
      "source": [
        "df_dataset.head()"
      ],
      "execution_count": 238,
      "outputs": [
        {
          "output_type": "execute_result",
          "data": {
            "text/html": [
              "<div>\n",
              "<style scoped>\n",
              "    .dataframe tbody tr th:only-of-type {\n",
              "        vertical-align: middle;\n",
              "    }\n",
              "\n",
              "    .dataframe tbody tr th {\n",
              "        vertical-align: top;\n",
              "    }\n",
              "\n",
              "    .dataframe thead th {\n",
              "        text-align: right;\n",
              "    }\n",
              "</style>\n",
              "<table border=\"1\" class=\"dataframe\">\n",
              "  <thead>\n",
              "    <tr style=\"text-align: right;\">\n",
              "      <th></th>\n",
              "      <th>comprimento_sepala</th>\n",
              "      <th>largura_sepala</th>\n",
              "      <th>comprimento_petala</th>\n",
              "      <th>largura_petala</th>\n",
              "      <th>classe</th>\n",
              "    </tr>\n",
              "  </thead>\n",
              "  <tbody>\n",
              "    <tr>\n",
              "      <th>73</th>\n",
              "      <td>6.1</td>\n",
              "      <td>2.8</td>\n",
              "      <td>4.7</td>\n",
              "      <td>1.2</td>\n",
              "      <td>Iris-versicolor</td>\n",
              "    </tr>\n",
              "    <tr>\n",
              "      <th>18</th>\n",
              "      <td>5.7</td>\n",
              "      <td>3.8</td>\n",
              "      <td>1.7</td>\n",
              "      <td>0.3</td>\n",
              "      <td>Iris-setosa</td>\n",
              "    </tr>\n",
              "    <tr>\n",
              "      <th>118</th>\n",
              "      <td>7.7</td>\n",
              "      <td>2.6</td>\n",
              "      <td>6.9</td>\n",
              "      <td>2.3</td>\n",
              "      <td>Iris-virginica</td>\n",
              "    </tr>\n",
              "    <tr>\n",
              "      <th>78</th>\n",
              "      <td>6.0</td>\n",
              "      <td>2.9</td>\n",
              "      <td>4.5</td>\n",
              "      <td>1.5</td>\n",
              "      <td>Iris-versicolor</td>\n",
              "    </tr>\n",
              "    <tr>\n",
              "      <th>76</th>\n",
              "      <td>6.8</td>\n",
              "      <td>2.8</td>\n",
              "      <td>4.8</td>\n",
              "      <td>1.4</td>\n",
              "      <td>Iris-versicolor</td>\n",
              "    </tr>\n",
              "  </tbody>\n",
              "</table>\n",
              "</div>"
            ],
            "text/plain": [
              "     comprimento_sepala  largura_sepala  ...  largura_petala           classe\n",
              "73                  6.1             2.8  ...             1.2  Iris-versicolor\n",
              "18                  5.7             3.8  ...             0.3      Iris-setosa\n",
              "118                 7.7             2.6  ...             2.3   Iris-virginica\n",
              "78                  6.0             2.9  ...             1.5  Iris-versicolor\n",
              "76                  6.8             2.8  ...             1.4  Iris-versicolor\n",
              "\n",
              "[5 rows x 5 columns]"
            ]
          },
          "metadata": {},
          "execution_count": 238
        }
      ]
    },
    {
      "cell_type": "code",
      "metadata": {
        "id": "43RBZx65JdoM",
        "colab": {
          "base_uri": "https://localhost:8080/"
        },
        "outputId": "afd5627e-7088-4fb8-96d7-c69dda0da8eb"
      },
      "source": [
        "treino = df_dataset[:100].values\n",
        "teste = df_dataset[100:].values\n",
        "\n",
        "print(treino.shape)\n",
        "print(teste.shape)"
      ],
      "execution_count": 239,
      "outputs": [
        {
          "output_type": "stream",
          "name": "stdout",
          "text": [
            "(100, 5)\n",
            "(50, 5)\n"
          ]
        }
      ]
    },
    {
      "cell_type": "markdown",
      "metadata": {
        "id": "N0v6kKfMJdoM"
      },
      "source": [
        "---\n",
        "\n",
        "Em seguida, vamos dar início à implementação do algoritmo KNN. O algoritmo funciona basicamente nas seguintes etapas:\n",
        "\n",
        "- Calcular a distância de uma amostra para todas as demais;\n",
        "- Pegar as n amostras mais próximas;\n",
        "- Computar qual a classe mais frequente."
      ]
    },
    {
      "cell_type": "markdown",
      "metadata": {
        "id": "Y0MfVOhBJdoN"
      },
      "source": [
        "### Calculando a distância"
      ]
    },
    {
      "cell_type": "code",
      "metadata": {
        "id": "nD9Lwa5lT-cp"
      },
      "source": [
        "#  testes explicando:"
      ],
      "execution_count": 240,
      "outputs": []
    },
    {
      "cell_type": "code",
      "metadata": {
        "scrolled": true,
        "colab": {
          "base_uri": "https://localhost:8080/"
        },
        "id": "VeQ8HVSLT-cp",
        "outputId": "02ea422c-12ef-4477-dbfc-55277dc4b9a4"
      },
      "source": [
        "teste[0]"
      ],
      "execution_count": 241,
      "outputs": [
        {
          "output_type": "execute_result",
          "data": {
            "text/plain": [
              "array([4.6, 3.1, 1.5, 0.2, 'Iris-setosa'], dtype=object)"
            ]
          },
          "metadata": {},
          "execution_count": 241
        }
      ]
    },
    {
      "cell_type": "code",
      "metadata": {
        "colab": {
          "base_uri": "https://localhost:8080/"
        },
        "id": "bFkDpAUBT-cq",
        "outputId": "5b8cdf55-180a-4d63-f32c-d208946bd2fb"
      },
      "source": [
        "treino[0]"
      ],
      "execution_count": 242,
      "outputs": [
        {
          "output_type": "execute_result",
          "data": {
            "text/plain": [
              "array([6.1, 2.8, 4.7, 1.2, 'Iris-versicolor'], dtype=object)"
            ]
          },
          "metadata": {},
          "execution_count": 242
        }
      ]
    },
    {
      "cell_type": "code",
      "metadata": {
        "id": "zwa_71ObT-cq"
      },
      "source": [
        ""
      ],
      "execution_count": 242,
      "outputs": []
    },
    {
      "cell_type": "code",
      "metadata": {
        "id": "YUwN5cPCT-cq"
      },
      "source": [
        "#[0,:4 slice para não pegar o nome das colunas"
      ],
      "execution_count": 243,
      "outputs": []
    },
    {
      "cell_type": "code",
      "metadata": {
        "id": "nA_IPY7mJdoN",
        "scrolled": true,
        "colab": {
          "base_uri": "https://localhost:8080/"
        },
        "outputId": "c4369212-dbb5-4946-96f7-78cddc1d78fc"
      },
      "source": [
        "# diferença de uma amostra de teste, para cada amostra da base de treino.\n",
        "\n",
        "amostra_teste = teste[0,:4]\n",
        "amostra_treino = treino[0,:4]\n",
        "\n",
        "distancia = np.sum((amostra_treino - amostra_teste) ** 2) ** 0.5\n",
        "print(\"Distância entre duas amostras quaisquer:\", distancia)"
      ],
      "execution_count": 244,
      "outputs": [
        {
          "output_type": "stream",
          "name": "stdout",
          "text": [
            "Distância entre duas amostras quaisquer: 3.685105154537656\n"
          ]
        }
      ]
    },
    {
      "cell_type": "code",
      "metadata": {
        "colab": {
          "base_uri": "https://localhost:8080/"
        },
        "id": "ZnR6hRoET-cr",
        "outputId": "01c44699-0cac-4da3-d03a-224149b6bd02"
      },
      "source": [
        "amostra_treino - amostra_teste"
      ],
      "execution_count": 245,
      "outputs": [
        {
          "output_type": "execute_result",
          "data": {
            "text/plain": [
              "array([1.5, -0.30000000000000027, 3.2, 1.0], dtype=object)"
            ]
          },
          "metadata": {},
          "execution_count": 245
        }
      ]
    },
    {
      "cell_type": "markdown",
      "metadata": {
        "id": "-X7cQf3LJdoO"
      },
      "source": [
        "Também é possível calcular a distância para todas as amostras de uma só vez."
      ]
    },
    {
      "cell_type": "code",
      "metadata": {
        "id": "U80011RPJdoP",
        "colab": {
          "base_uri": "https://localhost:8080/"
        },
        "outputId": "4610d99e-d781-4d93-fb6e-e9cc1423a419"
      },
      "source": [
        "# axis=1  - pega apenas as linhas na somatória\n",
        "\n",
        "distancias = np.sum((amostra_teste - treino[:,:4]) ** 2, axis=1) ** 0.5\n",
        "print(\"Distâncias de uma amostra de teste para todas as amostras de treino:\")\n",
        "print(distancias)"
      ],
      "execution_count": 246,
      "outputs": [
        {
          "output_type": "stream",
          "name": "stdout",
          "text": [
            "Distâncias de uma amostra de teste para todas as amostras de treino:\n",
            "[3.685105154537656 1.3228756555322956 6.590144156238162 3.5623026261113755\n",
            " 4.154515615568198 0.8774964387392128 2.5806975801127883 4.760252094164762\n",
            " 3.749666651850535 2.891366458960192 4.451965857910413 0.26457513110645925\n",
            " 1.0049875621120892 0.3162277660168386 0.8660254037844384\n",
            " 3.889730067755345 5.109794516416487 2.816025568065745 3.3926390907374753\n",
            " 4.913247398615299 0.17320508075688812 4.047221268969612\n",
            " 0.5477225575051663 4.873397172404482 6.215303693304134 4.7455242070818695\n",
            " 5.081338406365 5.349766350038103 0.26457513110645925 0.22360679774997916\n",
            " 0.7071067811865476 1.714642819948225 3.776241517699842 0.3741657386773941\n",
            " 0.29999999999999954 4.288356328478313 3.733630940518894\n",
            " 0.7211102550927982 0.6480740698407862 1.1704699910719625\n",
            " 4.177319714841084 3.606937759374287 4.042276586281548 1.1661903789690604\n",
            " 1.0000000000000007 2.6038433132583076 4.198809355043403 4.669047011971501\n",
            " 3.722902093797257 5.784461945591827 3.1224989991991996 6.215303693304133\n",
            " 3.420526275297414 0.648074069840786 6.3229739838148955 2.9999999999999996\n",
            " 0.6782329983125273 0.6082762530298221 0.9695359714832655\n",
            " 2.451530134426253 4.1436698710201325 0.5385164807134504\n",
            " 0.42426406871192884 0.648074069840786 3.108054053584011 0.58309518948453\n",
            " 3.083828789021855 6.414047084329831 0.14142135623730964\n",
            " 3.4132096331752027 4.1303752856126765 1.424780684877501\n",
            " 3.9268307832143723 4.177319714841084 3.108054053584011 3.3674916480965473\n",
            " 4.719110085598767 2.98496231131986 1.1661903789690604 2.1633307652783933\n",
            " 4.553020975132885 0.4582575694955842 0.5099019513592788\n",
            " 2.7202941017470885 4.349712634186309 0.3162277660168386 4.396589587396122\n",
            " 0.5000000000000001 0.7000000000000001 3.892300091205713 1.915724406066802\n",
            " 5.229722745997153 4.127953488110059 4.55521678957215 5.932115979985556\n",
            " 2.9376861643136762 0.2999999999999997 0.519615242270663\n",
            " 4.0877866871939394 5.4387498563548595]\n"
          ]
        }
      ]
    },
    {
      "cell_type": "markdown",
      "metadata": {
        "id": "g_rXOz-kJdoP"
      },
      "source": [
        "---\n",
        "\n",
        "Em seguida, escolhemos quantos vizinhos vamos considerar e escolhemos os mais próximos da amostra avaliada.\n",
        "A partir dos índices encontrados, calculamos qual é a classe mais frequente e atribuímos à amostra."
      ]
    },
    {
      "cell_type": "code",
      "metadata": {
        "id": "NBnsN95lJdoP",
        "colab": {
          "base_uri": "https://localhost:8080/"
        },
        "outputId": "e98dcf8b-9fc0-4a37-c62b-0917113f5d2d"
      },
      "source": [
        "# argsort - pega os valores menores e ordena eles na posição, mantendo seu indice original\n",
        "# k = 5, são os registros das menores 5 distancias \n",
        "k = 5\n",
        "indices = distancias.argsort()[:k]\n",
        "print(\"Indices dos vizinhos mais próximos:\", indices)"
      ],
      "execution_count": 247,
      "outputs": [
        {
          "output_type": "stream",
          "name": "stdout",
          "text": [
            "Indices dos vizinhos mais próximos: [68 20 29 11 28]\n"
          ]
        }
      ]
    },
    {
      "cell_type": "code",
      "metadata": {
        "id": "m6UtNbOwJdoQ",
        "colab": {
          "base_uri": "https://localhost:8080/"
        },
        "outputId": "0f3e88de-23e6-4d89-f785-5a8847ce5b23"
      },
      "source": [
        "from collections import Counter\n",
        "\n",
        "#pede a coluna 4 na base original\n",
        "vizinhos = treino[indices,4]\n",
        "print(\"Vizinhos mais próximos:\", vizinhos)\n",
        "\n",
        "# calculando a moda do numero de K vizinhos, depois veriificar o mais comun, \n",
        "#para tirar da tupla, indice [0]\n",
        "classe = Counter(vizinhos).most_common(1)[0][0]\n",
        "print(\"Classe mais frequente e quantidade:\", Counter(vizinhos).most_common(1))"
      ],
      "execution_count": 248,
      "outputs": [
        {
          "output_type": "stream",
          "name": "stdout",
          "text": [
            "Vizinhos mais próximos: ['Iris-setosa' 'Iris-setosa' 'Iris-setosa' 'Iris-setosa' 'Iris-setosa']\n",
            "Classe mais frequente e quantidade: [('Iris-setosa', 5)]\n"
          ]
        }
      ]
    },
    {
      "cell_type": "markdown",
      "metadata": {
        "id": "4eYB_mSwJdoQ"
      },
      "source": [
        "---\n",
        "\n",
        "Para verificar se a classe encontrada pelo modelo está correta, basta comparar a saída com o rótulo da amostra."
      ]
    },
    {
      "cell_type": "code",
      "metadata": {
        "id": "tnEMvmvoT-ct"
      },
      "source": [
        "# verificar se a aclsse esta certa, compara a base de teste original com a classficiada"
      ],
      "execution_count": 249,
      "outputs": []
    },
    {
      "cell_type": "code",
      "metadata": {
        "id": "w6sMimgPJdoQ",
        "colab": {
          "base_uri": "https://localhost:8080/"
        },
        "outputId": "d7b26531-fc13-4de7-9f6a-92d7ebcedcae"
      },
      "source": [
        "classe_certa = teste[0, 4]\n",
        "print(classe_certa)\n",
        "if classe_certa == classe:\n",
        "    print(\"Correto\")\n",
        "else:\n",
        "    print(\"Errado\")"
      ],
      "execution_count": 250,
      "outputs": [
        {
          "output_type": "stream",
          "name": "stdout",
          "text": [
            "Iris-setosa\n",
            "Correto\n"
          ]
        }
      ]
    },
    {
      "cell_type": "markdown",
      "metadata": {
        "id": "wvzjM5oSJdoR",
        "tags": []
      },
      "source": [
        "---\n",
        "\n",
        "## Exercícios\n",
        "\n",
        "### (1) Estruture o código para funcionar como uma função, que tem a seguinte assinatura:\n",
        "\n",
        "**knn(X, y, xt)**\n",
        "\n",
        "Onde X representa as amostras de treino, y representa as classes do treino e xt representa uma amostra qualquer a ser rotulada."
      ]
    },
    {
      "cell_type": "markdown",
      "metadata": {
        "id": "UTAaDf63T-cu"
      },
      "source": [
        "#### Função Knn"
      ]
    },
    {
      "cell_type": "code",
      "metadata": {
        "id": "wkT33Ao7JdoR"
      },
      "source": [
        "# implemente seu código aqui\n",
        "\n",
        "def knn(X,y,xt):\n",
        "    \n",
        "    #calcula as distancia \n",
        "    distancias = np.sum((xt - X) ** 2, axis =1) ** 0.5\n",
        "       \n",
        "    #ordendar\n",
        "    indices = distancias.argsort()\n",
        "      \n",
        "    #selecionar as amostras baseadas no k=1\n",
        "    indice = indices[0]\n",
        "      \n",
        "    #calcular a moda, encontrar a classe baseada no indice, porque k=1\n",
        "    classe = y[indice]\n",
        "    \n",
        "    \n",
        "    return classe"
      ],
      "execution_count": 251,
      "outputs": []
    },
    {
      "cell_type": "code",
      "metadata": {
        "colab": {
          "base_uri": "https://localhost:8080/",
          "height": 35
        },
        "id": "ShFf1R66T-cu",
        "outputId": "06b8ffa5-7cea-4cf7-87d4-58573375e185"
      },
      "source": [
        "# teste\n",
        "\n",
        "X = treino[:,:4]\n",
        "y = treino[:,4]\n",
        "xt = teste[1,:4]\n",
        "\n",
        "knn(X,y,xt)"
      ],
      "execution_count": 252,
      "outputs": [
        {
          "output_type": "execute_result",
          "data": {
            "application/vnd.google.colaboratory.intrinsic+json": {
              "type": "string"
            },
            "text/plain": [
              "'Iris-setosa'"
            ]
          },
          "metadata": {},
          "execution_count": 252
        }
      ]
    },
    {
      "cell_type": "code",
      "metadata": {
        "colab": {
          "base_uri": "https://localhost:8080/",
          "height": 35
        },
        "id": "nO3yGNzlT-cv",
        "outputId": "16bbecda-0af0-4fd0-c74f-8336bf00a7b9"
      },
      "source": [
        "yt = teste[1,4]\n",
        "yt"
      ],
      "execution_count": 253,
      "outputs": [
        {
          "output_type": "execute_result",
          "data": {
            "application/vnd.google.colaboratory.intrinsic+json": {
              "type": "string"
            },
            "text/plain": [
              "'Iris-setosa'"
            ]
          },
          "metadata": {},
          "execution_count": 253
        }
      ]
    },
    {
      "cell_type": "markdown",
      "metadata": {
        "id": "ebK5ph42JdoR"
      },
      "source": [
        "### (2) A partir da função anterior implementada, utilize-a para gerar as variações Edit KNN por remoção e inserção. Verifique o resultado final observando: a quantidade de amostras e a acurácia do conjunto de teste."
      ]
    },
    {
      "cell_type": "markdown",
      "metadata": {
        "id": "BLG0dEBTT-cv"
      },
      "source": [
        "#### Função Edit KNN Inserção"
      ]
    },
    {
      "cell_type": "code",
      "metadata": {
        "id": "XsnW05z7JdoR",
        "scrolled": true,
        "colab": {
          "base_uri": "https://localhost:8080/"
        },
        "outputId": "7b389a9f-8ef2-40ba-f29f-419805e987b5"
      },
      "source": [
        "# implemente seu código aqui\n",
        "\n",
        "# Edit KNN para a função de inserção\n",
        "\n",
        "def editKNN_insercao(X,y):\n",
        "    \n",
        "    #iniciar uma base reduzida\n",
        "    X_reduzido,y_reduzido = [],[]\n",
        "    \n",
        "    #para cada amostra da base original:\n",
        "    for X_atual, y_atual in zip(X,y):\n",
        "        \n",
        "        if len(X_reduzido) == 0:\n",
        "            X_reduzido.append(X_atual)\n",
        "            y_reduzido.append(y_atual)\n",
        "            continue    \n",
        "        \n",
        "    #verifica se a base reduzida classifica corretamente\n",
        "        if knn(X_reduzido,y_reduzido,X_atual) != y_atual:\n",
        "            X_reduzido.append(X_atual)\n",
        "            y_reduzido.append(y_atual)\n",
        "     \n",
        "    return X_reduzido,y_reduzido\n",
        "\n",
        "editKNN_insercao(X,y)"
      ],
      "execution_count": 254,
      "outputs": [
        {
          "output_type": "execute_result",
          "data": {
            "text/plain": [
              "([array([6.1, 2.8, 4.7, 1.2], dtype=object),\n",
              "  array([5.7, 3.8, 1.7, 0.3], dtype=object),\n",
              "  array([7.7, 2.6, 6.9, 2.3], dtype=object),\n",
              "  array([6.9, 3.1, 5.1, 2.3], dtype=object),\n",
              "  array([6.1, 3.0, 4.9, 1.8], dtype=object),\n",
              "  array([6.0, 3.4, 4.5, 1.6], dtype=object),\n",
              "  array([6.7, 3.1, 4.7, 1.5], dtype=object),\n",
              "  array([5.9, 3.2, 4.8, 1.8], dtype=object),\n",
              "  array([6.0, 2.7, 5.1, 1.6], dtype=object),\n",
              "  array([6.1, 2.6, 5.6, 1.4], dtype=object),\n",
              "  array([6.0, 2.2, 5.0, 1.5], dtype=object)],\n",
              " ['Iris-versicolor',\n",
              "  'Iris-setosa',\n",
              "  'Iris-virginica',\n",
              "  'Iris-virginica',\n",
              "  'Iris-virginica',\n",
              "  'Iris-versicolor',\n",
              "  'Iris-versicolor',\n",
              "  'Iris-versicolor',\n",
              "  'Iris-versicolor',\n",
              "  'Iris-virginica',\n",
              "  'Iris-virginica'])"
            ]
          },
          "metadata": {},
          "execution_count": 254
        }
      ]
    },
    {
      "cell_type": "markdown",
      "metadata": {
        "id": "2KpHIFitT-cw"
      },
      "source": [
        "#### Aplicando a função inserção no knn com a base de treino reduzida"
      ]
    },
    {
      "cell_type": "code",
      "metadata": {
        "colab": {
          "base_uri": "https://localhost:8080/"
        },
        "id": "fII1R6A2T-cw",
        "outputId": "60f3055b-9ea8-4f47-ee76-c92aa3381639"
      },
      "source": [
        "# aplicando a função inserção no knn com a base de treino reduzida\n",
        "\n",
        "X_reduz, Y_reduz =  editKNN_insercao(X,y)\n",
        "\n",
        "X_teste = teste[:,:4]\n",
        "y_teste = teste[:,4]\n",
        "\n",
        "classe = []\n",
        "\n",
        "for amostra in X_teste:\n",
        "    classe.append(knn(X_reduz, Y_reduz, amostra))\n",
        "acuracia_tit = (y_teste == classe).mean()\n",
        "\n",
        "print('A acurácia usando a função de inserção na base de treino reduzida foi de: %f' % acuracia_tit)   \n",
        "    "
      ],
      "execution_count": 255,
      "outputs": [
        {
          "output_type": "stream",
          "name": "stdout",
          "text": [
            "A acurácia usando a função de inserção na base de treino reduzida foi de: 0.980000\n"
          ]
        }
      ]
    },
    {
      "cell_type": "code",
      "metadata": {
        "tags": [],
        "colab": {
          "base_uri": "https://localhost:8080/"
        },
        "id": "zF-W3G4ZT-cw",
        "outputId": "22d4304a-2fed-47c1-8a08-9a3b29833819"
      },
      "source": [
        "#tamanho da base X reduzida pela função Inserção \n",
        "len(X_reduz)"
      ],
      "execution_count": 256,
      "outputs": [
        {
          "output_type": "execute_result",
          "data": {
            "text/plain": [
              "11"
            ]
          },
          "metadata": {},
          "execution_count": 256
        }
      ]
    },
    {
      "cell_type": "code",
      "metadata": {
        "colab": {
          "base_uri": "https://localhost:8080/"
        },
        "id": "HYZr7BU0T-cw",
        "outputId": "340e9ed5-5ef5-4f45-ceb4-d766e1a83c10"
      },
      "source": [
        "#tamanho da base Y reduzida pela função Inserção \n",
        "len(Y_reduz)"
      ],
      "execution_count": 257,
      "outputs": [
        {
          "output_type": "execute_result",
          "data": {
            "text/plain": [
              "11"
            ]
          },
          "metadata": {},
          "execution_count": 257
        }
      ]
    },
    {
      "cell_type": "markdown",
      "metadata": {
        "id": "PHkL30dZT-cw"
      },
      "source": [
        "####  Função Edit KNN  Remoção"
      ]
    },
    {
      "cell_type": "code",
      "metadata": {
        "scrolled": true,
        "colab": {
          "base_uri": "https://localhost:8080/"
        },
        "id": "MCjHxkWWT-cx",
        "outputId": "0dc6ac90-d107-42a6-86cf-6c35530bef11"
      },
      "source": [
        "# implemente seu código aqui\n",
        "\n",
        "# Edit KNN para a função de remoção\n",
        "\n",
        "def editKNN_remocao(X,y):\n",
        "    \n",
        "    #iniciar uma base reduzida:\n",
        "    X_reduzido,y_reduzido = [],[]\n",
        "    pos = 0\n",
        "    \n",
        "    #para cada amostra da base original:\n",
        "    for X_atual, y_atual in zip(X,y):\n",
        "        #copiar base padrão\n",
        "        X_novo = X.copy()\n",
        "        y_novo = y.copy()\n",
        "        \n",
        "        #deleta os registros que ira comparar:\n",
        "        X_novo = np.delete(X_novo, pos, 0)\n",
        "        y_novo = np.delete(y_novo, pos, 0)\n",
        "        pos = pos + 1   \n",
        "            \n",
        "        #verifica se a base reduzida classifica corretamente\n",
        "        res = knn(X_novo,y_novo,X_atual)\n",
        "        \n",
        "        if res != y_atual:\n",
        "            X_reduzido.append(X_atual)\n",
        "            y_reduzido.append(y_atual)  \n",
        "        \n",
        "    return X_reduzido,y_reduzido\n",
        "\n",
        "editKNN_remocao(X,y)    "
      ],
      "execution_count": 258,
      "outputs": [
        {
          "output_type": "execute_result",
          "data": {
            "text/plain": [
              "([array([6.2, 2.2, 4.5, 1.5], dtype=object),\n",
              "  array([6.5, 3.2, 5.1, 2.0], dtype=object),\n",
              "  array([6.3, 2.8, 5.1, 1.5], dtype=object),\n",
              "  array([5.9, 3.2, 4.8, 1.8], dtype=object),\n",
              "  array([6.0, 2.7, 5.1, 1.6], dtype=object),\n",
              "  array([6.1, 2.6, 5.6, 1.4], dtype=object),\n",
              "  array([6.0, 2.2, 5.0, 1.5], dtype=object)],\n",
              " ['Iris-versicolor',\n",
              "  'Iris-virginica',\n",
              "  'Iris-virginica',\n",
              "  'Iris-versicolor',\n",
              "  'Iris-versicolor',\n",
              "  'Iris-virginica',\n",
              "  'Iris-virginica'])"
            ]
          },
          "metadata": {},
          "execution_count": 258
        }
      ]
    },
    {
      "cell_type": "markdown",
      "metadata": {
        "id": "ICstuZUST-cx"
      },
      "source": [
        "#### Aplicando a função remoção no knn com a base de treino reduzida"
      ]
    },
    {
      "cell_type": "code",
      "metadata": {
        "colab": {
          "base_uri": "https://localhost:8080/"
        },
        "id": "oGeVZOwdT-cx",
        "outputId": "aa40a0f2-928e-4a99-d88a-41193f0dab5c"
      },
      "source": [
        "# aplicando a função remoção no knn com a base de treino reduzida\n",
        "\n",
        "X_reduz, Y_reduz =  editKNN_remocao(X,y)\n",
        "\n",
        "X_teste = teste[:,:4]\n",
        "y_teste = teste[:,4]\n",
        "\n",
        "classe = []\n",
        "\n",
        "for amostra in X_teste:\n",
        "    classe.append(knn(X_reduz, Y_reduz, amostra))\n",
        "acuracia_tit = (y_teste == classe).mean()\n",
        "\n",
        "print('A acurácia usando a função de remoção na base de treino reduzida foi de: %f' % acuracia_tit)   "
      ],
      "execution_count": 259,
      "outputs": [
        {
          "output_type": "stream",
          "name": "stdout",
          "text": [
            "A acurácia usando a função de remoção na base de treino reduzida foi de: 0.560000\n"
          ]
        }
      ]
    },
    {
      "cell_type": "code",
      "metadata": {
        "tags": [],
        "colab": {
          "base_uri": "https://localhost:8080/"
        },
        "id": "hr8MdDsuT-cx",
        "outputId": "6b175eaf-24b3-4740-c666-ef65ddd2835e"
      },
      "source": [
        "#tamanho da base X reduzida pela função Remoção\n",
        "len(X_reduz)"
      ],
      "execution_count": 260,
      "outputs": [
        {
          "output_type": "execute_result",
          "data": {
            "text/plain": [
              "7"
            ]
          },
          "metadata": {},
          "execution_count": 260
        }
      ]
    },
    {
      "cell_type": "code",
      "metadata": {
        "colab": {
          "base_uri": "https://localhost:8080/"
        },
        "id": "xHSP0QAhT-cx",
        "outputId": "529e1f7b-2bc9-45ba-c0f4-4c56ace0cbb5"
      },
      "source": [
        "#tamanho da base X reduzida pela função Remoção\n",
        "len(Y_reduz)"
      ],
      "execution_count": 261,
      "outputs": [
        {
          "output_type": "execute_result",
          "data": {
            "text/plain": [
              "7"
            ]
          },
          "metadata": {},
          "execution_count": 261
        }
      ]
    },
    {
      "cell_type": "markdown",
      "metadata": {
        "id": "kGBzQtl-T-cy"
      },
      "source": [
        "### Respostas:\n",
        "\n",
        "#### A acurácia no EditKnn da função inserção, para o conjunto de teste, foi de 98%\n",
        "#### A acurácia no EditKnn da função remoção, para o conjunto de teste,  foi de 56%\n",
        "\n",
        "#### A quantidade de amostras na base de teste reduzida no EditKnn da função inserção passou a ser 11\n",
        "#### A quantidade de amostras na base de teste reduzida no EditKnn da função remoção passou a ser 7\n",
        "\n",
        "#### Em ambas as funções, a base de treino foi reduzida.\n",
        "#### A função Edit Knn Inserção, obteve a melhor acurácia, utilizando da base de treino reduzida."
      ]
    },
    {
      "cell_type": "code",
      "metadata": {
        "id": "IpKEZ6lBT-cy"
      },
      "source": [
        ""
      ],
      "execution_count": 261,
      "outputs": []
    },
    {
      "cell_type": "markdown",
      "metadata": {
        "id": "iMo0x4UCJdoS"
      },
      "source": [
        "### (3) Aplique o algoritmo Edit KNN na base do Titanic e verifique o resultado final e a quantidade de amostras mantidas."
      ]
    },
    {
      "cell_type": "markdown",
      "metadata": {
        "id": "5ptErybfT-cy"
      },
      "source": [
        "### O arquivo **titanic_data.csv** contém informações reais sobre os passageiros organizadas da seguinte forma:\n",
        "\n",
        "- Survived (Sobreviveu): 0 = Não, 1 = Sim\n",
        "- Pclass (Classe): Classe de ingresso 1 = 1º, 2 = 2º, 3 = 3º\n",
        "- Sex (Sexo): Sexo do passageiro\n",
        "- Age (Idade): Idade em anos\n",
        "- Sibsp: Quantidade de irmãos / cônjuges a bordo do Titanic\n",
        "- Parch: Quantidade de pais / crianças a bordo do Titanic\n",
        "- Ticket (Bilhete): Número do bilhete de embarque\n",
        "- Fare (Tarifa): Tarifa paga pelo Passageiro\n",
        "- Cabin (Cabine): Número de cabine\n",
        "- Embarked (Embarque): Porto de Embarque (C = Cherbourg, Q = Queenstown, S = Southampton)"
      ]
    },
    {
      "cell_type": "code",
      "metadata": {
        "id": "UnWf_Je5T-cy"
      },
      "source": [
        "#Carregamento da base original:\n",
        "df_dataset_tit = pd.read_csv('titanic_data.csv',sep=',', index_col=None)"
      ],
      "execution_count": 262,
      "outputs": []
    },
    {
      "cell_type": "code",
      "metadata": {
        "colab": {
          "base_uri": "https://localhost:8080/",
          "height": 193
        },
        "id": "c-BeJBjlT-cy",
        "outputId": "bbc13b03-449a-470f-95e5-499ec5661cb4"
      },
      "source": [
        "df_dataset_tit.head(3)  "
      ],
      "execution_count": 263,
      "outputs": [
        {
          "output_type": "execute_result",
          "data": {
            "text/html": [
              "<div>\n",
              "<style scoped>\n",
              "    .dataframe tbody tr th:only-of-type {\n",
              "        vertical-align: middle;\n",
              "    }\n",
              "\n",
              "    .dataframe tbody tr th {\n",
              "        vertical-align: top;\n",
              "    }\n",
              "\n",
              "    .dataframe thead th {\n",
              "        text-align: right;\n",
              "    }\n",
              "</style>\n",
              "<table border=\"1\" class=\"dataframe\">\n",
              "  <thead>\n",
              "    <tr style=\"text-align: right;\">\n",
              "      <th></th>\n",
              "      <th>PassengerId</th>\n",
              "      <th>Survived</th>\n",
              "      <th>Pclass</th>\n",
              "      <th>Name</th>\n",
              "      <th>Sex</th>\n",
              "      <th>Age</th>\n",
              "      <th>SibSp</th>\n",
              "      <th>Parch</th>\n",
              "      <th>Ticket</th>\n",
              "      <th>Fare</th>\n",
              "      <th>Cabin</th>\n",
              "      <th>Embarked</th>\n",
              "    </tr>\n",
              "  </thead>\n",
              "  <tbody>\n",
              "    <tr>\n",
              "      <th>0</th>\n",
              "      <td>1</td>\n",
              "      <td>0</td>\n",
              "      <td>3</td>\n",
              "      <td>Braund, Mr. Owen Harris</td>\n",
              "      <td>male</td>\n",
              "      <td>22.0</td>\n",
              "      <td>1</td>\n",
              "      <td>0</td>\n",
              "      <td>A/5 21171</td>\n",
              "      <td>7.2500</td>\n",
              "      <td>NaN</td>\n",
              "      <td>S</td>\n",
              "    </tr>\n",
              "    <tr>\n",
              "      <th>1</th>\n",
              "      <td>2</td>\n",
              "      <td>1</td>\n",
              "      <td>1</td>\n",
              "      <td>Cumings, Mrs. John Bradley (Florence Briggs Th...</td>\n",
              "      <td>female</td>\n",
              "      <td>38.0</td>\n",
              "      <td>1</td>\n",
              "      <td>0</td>\n",
              "      <td>PC 17599</td>\n",
              "      <td>71.2833</td>\n",
              "      <td>C85</td>\n",
              "      <td>C</td>\n",
              "    </tr>\n",
              "    <tr>\n",
              "      <th>2</th>\n",
              "      <td>3</td>\n",
              "      <td>1</td>\n",
              "      <td>3</td>\n",
              "      <td>Heikkinen, Miss. Laina</td>\n",
              "      <td>female</td>\n",
              "      <td>26.0</td>\n",
              "      <td>0</td>\n",
              "      <td>0</td>\n",
              "      <td>STON/O2. 3101282</td>\n",
              "      <td>7.9250</td>\n",
              "      <td>NaN</td>\n",
              "      <td>S</td>\n",
              "    </tr>\n",
              "  </tbody>\n",
              "</table>\n",
              "</div>"
            ],
            "text/plain": [
              "   PassengerId  Survived  Pclass  ...     Fare Cabin  Embarked\n",
              "0            1         0       3  ...   7.2500   NaN         S\n",
              "1            2         1       1  ...  71.2833   C85         C\n",
              "2            3         1       3  ...   7.9250   NaN         S\n",
              "\n",
              "[3 rows x 12 columns]"
            ]
          },
          "metadata": {},
          "execution_count": 263
        }
      ]
    },
    {
      "cell_type": "code",
      "metadata": {
        "colab": {
          "base_uri": "https://localhost:8080/"
        },
        "id": "4iUcmSqMT-cy",
        "outputId": "16beb9b8-1509-4670-e107-54fb5d5dff08"
      },
      "source": [
        "#Resumo das informações:\n",
        "df_dataset_tit.info()"
      ],
      "execution_count": 264,
      "outputs": [
        {
          "output_type": "stream",
          "name": "stdout",
          "text": [
            "<class 'pandas.core.frame.DataFrame'>\n",
            "RangeIndex: 891 entries, 0 to 890\n",
            "Data columns (total 12 columns):\n",
            " #   Column       Non-Null Count  Dtype  \n",
            "---  ------       --------------  -----  \n",
            " 0   PassengerId  891 non-null    int64  \n",
            " 1   Survived     891 non-null    int64  \n",
            " 2   Pclass       891 non-null    int64  \n",
            " 3   Name         891 non-null    object \n",
            " 4   Sex          891 non-null    object \n",
            " 5   Age          714 non-null    float64\n",
            " 6   SibSp        891 non-null    int64  \n",
            " 7   Parch        891 non-null    int64  \n",
            " 8   Ticket       891 non-null    object \n",
            " 9   Fare         891 non-null    float64\n",
            " 10  Cabin        204 non-null    object \n",
            " 11  Embarked     889 non-null    object \n",
            "dtypes: float64(2), int64(5), object(5)\n",
            "memory usage: 83.7+ KB\n"
          ]
        }
      ]
    },
    {
      "cell_type": "code",
      "metadata": {
        "id": "iWcSElbOT-cy"
      },
      "source": [
        "# A coluna \"Cabin\" tem muitos dados faltantes,porém não são dados relevantes. Excluindo a coluna \"Cabin\"\n",
        "df_dataset_tit.drop('Cabin',axis=1,inplace=True)"
      ],
      "execution_count": 265,
      "outputs": []
    },
    {
      "cell_type": "code",
      "metadata": {
        "tags": [],
        "colab": {
          "base_uri": "https://localhost:8080/",
          "height": 176
        },
        "id": "HcLvt2PvT-cz",
        "outputId": "34957c26-d3e1-4dd6-8230-32de3042ed02"
      },
      "source": [
        "df_dataset_tit.head(3)  "
      ],
      "execution_count": 266,
      "outputs": [
        {
          "output_type": "execute_result",
          "data": {
            "text/html": [
              "<div>\n",
              "<style scoped>\n",
              "    .dataframe tbody tr th:only-of-type {\n",
              "        vertical-align: middle;\n",
              "    }\n",
              "\n",
              "    .dataframe tbody tr th {\n",
              "        vertical-align: top;\n",
              "    }\n",
              "\n",
              "    .dataframe thead th {\n",
              "        text-align: right;\n",
              "    }\n",
              "</style>\n",
              "<table border=\"1\" class=\"dataframe\">\n",
              "  <thead>\n",
              "    <tr style=\"text-align: right;\">\n",
              "      <th></th>\n",
              "      <th>PassengerId</th>\n",
              "      <th>Survived</th>\n",
              "      <th>Pclass</th>\n",
              "      <th>Name</th>\n",
              "      <th>Sex</th>\n",
              "      <th>Age</th>\n",
              "      <th>SibSp</th>\n",
              "      <th>Parch</th>\n",
              "      <th>Ticket</th>\n",
              "      <th>Fare</th>\n",
              "      <th>Embarked</th>\n",
              "    </tr>\n",
              "  </thead>\n",
              "  <tbody>\n",
              "    <tr>\n",
              "      <th>0</th>\n",
              "      <td>1</td>\n",
              "      <td>0</td>\n",
              "      <td>3</td>\n",
              "      <td>Braund, Mr. Owen Harris</td>\n",
              "      <td>male</td>\n",
              "      <td>22.0</td>\n",
              "      <td>1</td>\n",
              "      <td>0</td>\n",
              "      <td>A/5 21171</td>\n",
              "      <td>7.2500</td>\n",
              "      <td>S</td>\n",
              "    </tr>\n",
              "    <tr>\n",
              "      <th>1</th>\n",
              "      <td>2</td>\n",
              "      <td>1</td>\n",
              "      <td>1</td>\n",
              "      <td>Cumings, Mrs. John Bradley (Florence Briggs Th...</td>\n",
              "      <td>female</td>\n",
              "      <td>38.0</td>\n",
              "      <td>1</td>\n",
              "      <td>0</td>\n",
              "      <td>PC 17599</td>\n",
              "      <td>71.2833</td>\n",
              "      <td>C</td>\n",
              "    </tr>\n",
              "    <tr>\n",
              "      <th>2</th>\n",
              "      <td>3</td>\n",
              "      <td>1</td>\n",
              "      <td>3</td>\n",
              "      <td>Heikkinen, Miss. Laina</td>\n",
              "      <td>female</td>\n",
              "      <td>26.0</td>\n",
              "      <td>0</td>\n",
              "      <td>0</td>\n",
              "      <td>STON/O2. 3101282</td>\n",
              "      <td>7.9250</td>\n",
              "      <td>S</td>\n",
              "    </tr>\n",
              "  </tbody>\n",
              "</table>\n",
              "</div>"
            ],
            "text/plain": [
              "   PassengerId  Survived  Pclass  ...            Ticket     Fare  Embarked\n",
              "0            1         0       3  ...         A/5 21171   7.2500         S\n",
              "1            2         1       1  ...          PC 17599  71.2833         C\n",
              "2            3         1       3  ...  STON/O2. 3101282   7.9250         S\n",
              "\n",
              "[3 rows x 11 columns]"
            ]
          },
          "metadata": {},
          "execution_count": 266
        }
      ]
    },
    {
      "cell_type": "code",
      "metadata": {
        "scrolled": true,
        "tags": [],
        "colab": {
          "base_uri": "https://localhost:8080/"
        },
        "id": "QnVJnDfYT-cz",
        "outputId": "38fd4b4a-390a-4cc9-d280-ea43b9666528"
      },
      "source": [
        "#achando a idade média entre sexo - \"Sex\" e classes - \"Pclass\".\n",
        "idade_media = round(df_dataset_tit.groupby(['Pclass','Sex'])['Age'].mean().unstack(),0)\n",
        "\n",
        "print('Média de idade da primeira classe é',round(idade_media.loc[1].mean()))\n",
        "print('Média de idade da segunda classe é' ,round(idade_media.loc[2].mean()))\n",
        "print('Média de idade da terceira classe é',round(idade_media.loc[3].mean()))"
      ],
      "execution_count": 267,
      "outputs": [
        {
          "output_type": "stream",
          "name": "stdout",
          "text": [
            "Média de idade da primeira classe é 38\n",
            "Média de idade da segunda classe é 30\n",
            "Média de idade da terceira classe é 24\n"
          ]
        }
      ]
    },
    {
      "cell_type": "code",
      "metadata": {
        "id": "2czS6kfQT-cz"
      },
      "source": [
        "# Função para completar a idade média dos passageiros nos dados faltantes da coluna idade - \"Age\", \n",
        "# levando em consideração o sexo - \"Sex\" e a classe de embarque do novaio - \"Pclass\"\n",
        "\n",
        "def muda_coluna_idade(coluna):\n",
        "    age = coluna['Age']\n",
        "    pclass = coluna['Pclass']\n",
        "    sex = coluna['Sex']  \n",
        "        \n",
        "    if pd.isnull(age):\n",
        "        return idade_media.loc[pclass][sex]\n",
        "    else:\n",
        "        return age"
      ],
      "execution_count": 268,
      "outputs": []
    },
    {
      "cell_type": "code",
      "metadata": {
        "id": "iL2S3pJxT-cz"
      },
      "source": [
        "#inserindo a idade média nos dados faltantes da coluna idade - \"Age\"\n",
        "df_dataset_tit['Age'] = df_dataset_tit[['Age', 'Pclass','Sex']].apply(muda_coluna_idade, axis = 1)"
      ],
      "execution_count": 269,
      "outputs": []
    },
    {
      "cell_type": "code",
      "metadata": {
        "id": "PXzPo1cTT-cz"
      },
      "source": [
        "#Removendo valores de colunas não utilizadas\n",
        "df_dataset_tit.drop(['PassengerId','Embarked','Name','Ticket','SibSp','Parch'],axis=1,inplace=True)"
      ],
      "execution_count": 270,
      "outputs": []
    },
    {
      "cell_type": "code",
      "metadata": {
        "colab": {
          "base_uri": "https://localhost:8080/",
          "height": 204
        },
        "id": "z6qmsp2QT-cz",
        "outputId": "7a44cc02-abfd-4afb-f548-18503b702c4e"
      },
      "source": [
        "#visualizando a base \n",
        "df_dataset_tit.head(5)  "
      ],
      "execution_count": 271,
      "outputs": [
        {
          "output_type": "execute_result",
          "data": {
            "text/html": [
              "<div>\n",
              "<style scoped>\n",
              "    .dataframe tbody tr th:only-of-type {\n",
              "        vertical-align: middle;\n",
              "    }\n",
              "\n",
              "    .dataframe tbody tr th {\n",
              "        vertical-align: top;\n",
              "    }\n",
              "\n",
              "    .dataframe thead th {\n",
              "        text-align: right;\n",
              "    }\n",
              "</style>\n",
              "<table border=\"1\" class=\"dataframe\">\n",
              "  <thead>\n",
              "    <tr style=\"text-align: right;\">\n",
              "      <th></th>\n",
              "      <th>Survived</th>\n",
              "      <th>Pclass</th>\n",
              "      <th>Sex</th>\n",
              "      <th>Age</th>\n",
              "      <th>Fare</th>\n",
              "    </tr>\n",
              "  </thead>\n",
              "  <tbody>\n",
              "    <tr>\n",
              "      <th>0</th>\n",
              "      <td>0</td>\n",
              "      <td>3</td>\n",
              "      <td>male</td>\n",
              "      <td>22.0</td>\n",
              "      <td>7.2500</td>\n",
              "    </tr>\n",
              "    <tr>\n",
              "      <th>1</th>\n",
              "      <td>1</td>\n",
              "      <td>1</td>\n",
              "      <td>female</td>\n",
              "      <td>38.0</td>\n",
              "      <td>71.2833</td>\n",
              "    </tr>\n",
              "    <tr>\n",
              "      <th>2</th>\n",
              "      <td>1</td>\n",
              "      <td>3</td>\n",
              "      <td>female</td>\n",
              "      <td>26.0</td>\n",
              "      <td>7.9250</td>\n",
              "    </tr>\n",
              "    <tr>\n",
              "      <th>3</th>\n",
              "      <td>1</td>\n",
              "      <td>1</td>\n",
              "      <td>female</td>\n",
              "      <td>35.0</td>\n",
              "      <td>53.1000</td>\n",
              "    </tr>\n",
              "    <tr>\n",
              "      <th>4</th>\n",
              "      <td>0</td>\n",
              "      <td>3</td>\n",
              "      <td>male</td>\n",
              "      <td>35.0</td>\n",
              "      <td>8.0500</td>\n",
              "    </tr>\n",
              "  </tbody>\n",
              "</table>\n",
              "</div>"
            ],
            "text/plain": [
              "   Survived  Pclass     Sex   Age     Fare\n",
              "0         0       3    male  22.0   7.2500\n",
              "1         1       1  female  38.0  71.2833\n",
              "2         1       3  female  26.0   7.9250\n",
              "3         1       1  female  35.0  53.1000\n",
              "4         0       3    male  35.0   8.0500"
            ]
          },
          "metadata": {},
          "execution_count": 271
        }
      ]
    },
    {
      "cell_type": "code",
      "metadata": {
        "scrolled": true,
        "colab": {
          "base_uri": "https://localhost:8080/"
        },
        "id": "jVwZJIOJT-cz",
        "outputId": "0de638d5-53b9-44da-ae72-890e4b1f6916"
      },
      "source": [
        "#resumo das informações - Base Finalizada.\n",
        "df_dataset_tit.info()"
      ],
      "execution_count": 272,
      "outputs": [
        {
          "output_type": "stream",
          "name": "stdout",
          "text": [
            "<class 'pandas.core.frame.DataFrame'>\n",
            "RangeIndex: 891 entries, 0 to 890\n",
            "Data columns (total 5 columns):\n",
            " #   Column    Non-Null Count  Dtype  \n",
            "---  ------    --------------  -----  \n",
            " 0   Survived  891 non-null    int64  \n",
            " 1   Pclass    891 non-null    int64  \n",
            " 2   Sex       891 non-null    object \n",
            " 3   Age       891 non-null    float64\n",
            " 4   Fare      891 non-null    float64\n",
            "dtypes: float64(2), int64(2), object(1)\n",
            "memory usage: 34.9+ KB\n"
          ]
        }
      ]
    },
    {
      "cell_type": "code",
      "metadata": {
        "id": "j56CKP4DT-c0"
      },
      "source": [
        "#Misturando os dados da base:\n",
        "df_dataset_tit = shuffle(df_dataset_tit, random_state=42)"
      ],
      "execution_count": 273,
      "outputs": []
    },
    {
      "cell_type": "code",
      "metadata": {
        "id": "caOE50aRT-c0"
      },
      "source": [
        "#Reordenandos as colunas:\n",
        "df_dataset_tit = df_dataset_tit[['Survived','Pclass','Age','Fare','Sex']]"
      ],
      "execution_count": 274,
      "outputs": []
    },
    {
      "cell_type": "code",
      "metadata": {
        "colab": {
          "base_uri": "https://localhost:8080/",
          "height": 204
        },
        "id": "l7_YSGuXT-c0",
        "outputId": "8f764d85-7f7e-4736-cafa-5f3038cd9cd9"
      },
      "source": [
        "df_dataset_tit.head(5)  "
      ],
      "execution_count": 275,
      "outputs": [
        {
          "output_type": "execute_result",
          "data": {
            "text/html": [
              "<div>\n",
              "<style scoped>\n",
              "    .dataframe tbody tr th:only-of-type {\n",
              "        vertical-align: middle;\n",
              "    }\n",
              "\n",
              "    .dataframe tbody tr th {\n",
              "        vertical-align: top;\n",
              "    }\n",
              "\n",
              "    .dataframe thead th {\n",
              "        text-align: right;\n",
              "    }\n",
              "</style>\n",
              "<table border=\"1\" class=\"dataframe\">\n",
              "  <thead>\n",
              "    <tr style=\"text-align: right;\">\n",
              "      <th></th>\n",
              "      <th>Survived</th>\n",
              "      <th>Pclass</th>\n",
              "      <th>Age</th>\n",
              "      <th>Fare</th>\n",
              "      <th>Sex</th>\n",
              "    </tr>\n",
              "  </thead>\n",
              "  <tbody>\n",
              "    <tr>\n",
              "      <th>709</th>\n",
              "      <td>1</td>\n",
              "      <td>3</td>\n",
              "      <td>27.0</td>\n",
              "      <td>15.2458</td>\n",
              "      <td>male</td>\n",
              "    </tr>\n",
              "    <tr>\n",
              "      <th>439</th>\n",
              "      <td>0</td>\n",
              "      <td>2</td>\n",
              "      <td>31.0</td>\n",
              "      <td>10.5000</td>\n",
              "      <td>male</td>\n",
              "    </tr>\n",
              "    <tr>\n",
              "      <th>840</th>\n",
              "      <td>0</td>\n",
              "      <td>3</td>\n",
              "      <td>20.0</td>\n",
              "      <td>7.9250</td>\n",
              "      <td>male</td>\n",
              "    </tr>\n",
              "    <tr>\n",
              "      <th>720</th>\n",
              "      <td>1</td>\n",
              "      <td>2</td>\n",
              "      <td>6.0</td>\n",
              "      <td>33.0000</td>\n",
              "      <td>female</td>\n",
              "    </tr>\n",
              "    <tr>\n",
              "      <th>39</th>\n",
              "      <td>1</td>\n",
              "      <td>3</td>\n",
              "      <td>14.0</td>\n",
              "      <td>11.2417</td>\n",
              "      <td>female</td>\n",
              "    </tr>\n",
              "  </tbody>\n",
              "</table>\n",
              "</div>"
            ],
            "text/plain": [
              "     Survived  Pclass   Age     Fare     Sex\n",
              "709         1       3  27.0  15.2458    male\n",
              "439         0       2  31.0  10.5000    male\n",
              "840         0       3  20.0   7.9250    male\n",
              "720         1       2   6.0  33.0000  female\n",
              "39          1       3  14.0  11.2417  female"
            ]
          },
          "metadata": {},
          "execution_count": 275
        }
      ]
    },
    {
      "cell_type": "code",
      "metadata": {
        "id": "hVAq5BIXdi7l"
      },
      "source": [
        "df_dataset_tit['Sex'] = df_dataset_tit['Sex'].apply(lambda x:1 if x=='male' else 0)"
      ],
      "execution_count": 276,
      "outputs": []
    },
    {
      "cell_type": "code",
      "metadata": {
        "colab": {
          "base_uri": "https://localhost:8080/",
          "height": 204
        },
        "id": "lgVyQGNwdmAx",
        "outputId": "a5a87079-d7ff-42f0-98a6-24ccc6dea624"
      },
      "source": [
        "df_dataset_tit.head(5) \n"
      ],
      "execution_count": 277,
      "outputs": [
        {
          "output_type": "execute_result",
          "data": {
            "text/html": [
              "<div>\n",
              "<style scoped>\n",
              "    .dataframe tbody tr th:only-of-type {\n",
              "        vertical-align: middle;\n",
              "    }\n",
              "\n",
              "    .dataframe tbody tr th {\n",
              "        vertical-align: top;\n",
              "    }\n",
              "\n",
              "    .dataframe thead th {\n",
              "        text-align: right;\n",
              "    }\n",
              "</style>\n",
              "<table border=\"1\" class=\"dataframe\">\n",
              "  <thead>\n",
              "    <tr style=\"text-align: right;\">\n",
              "      <th></th>\n",
              "      <th>Survived</th>\n",
              "      <th>Pclass</th>\n",
              "      <th>Age</th>\n",
              "      <th>Fare</th>\n",
              "      <th>Sex</th>\n",
              "    </tr>\n",
              "  </thead>\n",
              "  <tbody>\n",
              "    <tr>\n",
              "      <th>709</th>\n",
              "      <td>1</td>\n",
              "      <td>3</td>\n",
              "      <td>27.0</td>\n",
              "      <td>15.2458</td>\n",
              "      <td>1</td>\n",
              "    </tr>\n",
              "    <tr>\n",
              "      <th>439</th>\n",
              "      <td>0</td>\n",
              "      <td>2</td>\n",
              "      <td>31.0</td>\n",
              "      <td>10.5000</td>\n",
              "      <td>1</td>\n",
              "    </tr>\n",
              "    <tr>\n",
              "      <th>840</th>\n",
              "      <td>0</td>\n",
              "      <td>3</td>\n",
              "      <td>20.0</td>\n",
              "      <td>7.9250</td>\n",
              "      <td>1</td>\n",
              "    </tr>\n",
              "    <tr>\n",
              "      <th>720</th>\n",
              "      <td>1</td>\n",
              "      <td>2</td>\n",
              "      <td>6.0</td>\n",
              "      <td>33.0000</td>\n",
              "      <td>0</td>\n",
              "    </tr>\n",
              "    <tr>\n",
              "      <th>39</th>\n",
              "      <td>1</td>\n",
              "      <td>3</td>\n",
              "      <td>14.0</td>\n",
              "      <td>11.2417</td>\n",
              "      <td>0</td>\n",
              "    </tr>\n",
              "  </tbody>\n",
              "</table>\n",
              "</div>"
            ],
            "text/plain": [
              "     Survived  Pclass   Age     Fare  Sex\n",
              "709         1       3  27.0  15.2458    1\n",
              "439         0       2  31.0  10.5000    1\n",
              "840         0       3  20.0   7.9250    1\n",
              "720         1       2   6.0  33.0000    0\n",
              "39          1       3  14.0  11.2417    0"
            ]
          },
          "metadata": {},
          "execution_count": 277
        }
      ]
    },
    {
      "cell_type": "code",
      "metadata": {
        "id": "xvHjG-iBT-c0"
      },
      "source": [
        "#normalizando os dados:\n",
        "#passando o standscaler nas colunas de X [\"Pclass, Age e Fare\"]\n",
        "\n",
        "from sklearn.preprocessing import StandardScaler\n",
        "\n",
        "tit_normalizado = df_dataset_tit.copy()\n",
        "\n",
        "col_names = ['Pclass','Age','Fare','Sex']\n",
        "features = tit_normalizado[col_names]\n",
        "scaler = StandardScaler().fit(features.values)\n",
        "features = scaler.transform(features.values)"
      ],
      "execution_count": 278,
      "outputs": []
    },
    {
      "cell_type": "markdown",
      "metadata": {
        "id": "-i9RhYo3T-c0"
      },
      "source": [
        "#### Base do Titanic Normalizada"
      ]
    },
    {
      "cell_type": "code",
      "metadata": {
        "scrolled": true,
        "tags": [],
        "colab": {
          "base_uri": "https://localhost:8080/",
          "height": 204
        },
        "id": "Q0pBhdPbT-c0",
        "outputId": "6d407e1b-554e-41e0-992b-62fdb6650664"
      },
      "source": [
        "#base titanic normalizada\n",
        "tit_normalizado[col_names] = features\n",
        "tit_normalizado.head()"
      ],
      "execution_count": 279,
      "outputs": [
        {
          "output_type": "execute_result",
          "data": {
            "text/html": [
              "<div>\n",
              "<style scoped>\n",
              "    .dataframe tbody tr th:only-of-type {\n",
              "        vertical-align: middle;\n",
              "    }\n",
              "\n",
              "    .dataframe tbody tr th {\n",
              "        vertical-align: top;\n",
              "    }\n",
              "\n",
              "    .dataframe thead th {\n",
              "        text-align: right;\n",
              "    }\n",
              "</style>\n",
              "<table border=\"1\" class=\"dataframe\">\n",
              "  <thead>\n",
              "    <tr style=\"text-align: right;\">\n",
              "      <th></th>\n",
              "      <th>Survived</th>\n",
              "      <th>Pclass</th>\n",
              "      <th>Age</th>\n",
              "      <th>Fare</th>\n",
              "      <th>Sex</th>\n",
              "    </tr>\n",
              "  </thead>\n",
              "  <tbody>\n",
              "    <tr>\n",
              "      <th>709</th>\n",
              "      <td>1</td>\n",
              "      <td>0.827377</td>\n",
              "      <td>-0.179804</td>\n",
              "      <td>-0.341452</td>\n",
              "      <td>0.737695</td>\n",
              "    </tr>\n",
              "    <tr>\n",
              "      <th>439</th>\n",
              "      <td>0</td>\n",
              "      <td>-0.369365</td>\n",
              "      <td>0.122019</td>\n",
              "      <td>-0.437007</td>\n",
              "      <td>0.737695</td>\n",
              "    </tr>\n",
              "    <tr>\n",
              "      <th>840</th>\n",
              "      <td>0</td>\n",
              "      <td>0.827377</td>\n",
              "      <td>-0.707993</td>\n",
              "      <td>-0.488854</td>\n",
              "      <td>0.737695</td>\n",
              "    </tr>\n",
              "    <tr>\n",
              "      <th>720</th>\n",
              "      <td>1</td>\n",
              "      <td>-0.369365</td>\n",
              "      <td>-1.764371</td>\n",
              "      <td>0.016023</td>\n",
              "      <td>-1.355574</td>\n",
              "    </tr>\n",
              "    <tr>\n",
              "      <th>39</th>\n",
              "      <td>1</td>\n",
              "      <td>0.827377</td>\n",
              "      <td>-1.160726</td>\n",
              "      <td>-0.422074</td>\n",
              "      <td>-1.355574</td>\n",
              "    </tr>\n",
              "  </tbody>\n",
              "</table>\n",
              "</div>"
            ],
            "text/plain": [
              "     Survived    Pclass       Age      Fare       Sex\n",
              "709         1  0.827377 -0.179804 -0.341452  0.737695\n",
              "439         0 -0.369365  0.122019 -0.437007  0.737695\n",
              "840         0  0.827377 -0.707993 -0.488854  0.737695\n",
              "720         1 -0.369365 -1.764371  0.016023 -1.355574\n",
              "39          1  0.827377 -1.160726 -0.422074 -1.355574"
            ]
          },
          "metadata": {},
          "execution_count": 279
        }
      ]
    },
    {
      "cell_type": "markdown",
      "metadata": {
        "id": "Az9o6I80T-c1"
      },
      "source": [
        "#### Separando a base do Titanic em Treino (70%) e Teste (30%):"
      ]
    },
    {
      "cell_type": "code",
      "metadata": {
        "scrolled": true,
        "colab": {
          "base_uri": "https://localhost:8080/"
        },
        "id": "BV1PllnvT-c1",
        "outputId": "1d5579b2-7bc8-4c8b-8e5f-96b7298169ab"
      },
      "source": [
        "# Total da base = 891 amostras:\n",
        "# 70% para Treino = (624 amostras)\n",
        "# 30% para Teste  = (267 amostras)\n",
        "\n",
        "df_titanic = tit_normalizado\n",
        "\n",
        "treino_titanic = df_titanic[:624].values\n",
        "teste_titanic = df_titanic[624:].values\n",
        "\n",
        "print(treino_titanic.shape)\n",
        "print(teste_titanic.shape)"
      ],
      "execution_count": 280,
      "outputs": [
        {
          "output_type": "stream",
          "name": "stdout",
          "text": [
            "(624, 5)\n",
            "(267, 5)\n"
          ]
        }
      ]
    },
    {
      "cell_type": "code",
      "metadata": {
        "colab": {
          "base_uri": "https://localhost:8080/"
        },
        "id": "cOLuNPcfT-c1",
        "outputId": "14c99ca7-308d-4ad4-db90-99b7dee847e2"
      },
      "source": [
        "# diferença de uma amostra de teste, para uma determinada amostra da base de treino do Titanic.\n",
        "amostra_teste_tit = teste_titanic[0,1:5] \n",
        "amostra_treino_tit = treino_titanic[0,1:5]\n",
        "\n",
        "distancia = np.sum((amostra_treino_tit - amostra_teste_tit) ** 2) ** 0.5\n",
        "print(\"Distância entre duas amostras quaisquer:\", distancia)"
      ],
      "execution_count": 281,
      "outputs": [
        {
          "output_type": "stream",
          "name": "stdout",
          "text": [
            "Distância entre duas amostras quaisquer: 3.311920174497596\n"
          ]
        }
      ]
    },
    {
      "cell_type": "code",
      "metadata": {
        "tags": [],
        "colab": {
          "base_uri": "https://localhost:8080/"
        },
        "id": "xhzE4RIkT-c1",
        "outputId": "d737275d-e7f9-4d09-c47c-4cdbb2dab7b8"
      },
      "source": [
        "amostra_treino_tit - amostra_teste_tit"
      ],
      "execution_count": 282,
      "outputs": [
        {
          "output_type": "execute_result",
          "data": {
            "text/plain": [
              "array([ 2.39348417, -1.88638977, -1.29675842,  0.        ])"
            ]
          },
          "metadata": {},
          "execution_count": 282
        }
      ]
    },
    {
      "cell_type": "code",
      "metadata": {
        "scrolled": true,
        "colab": {
          "base_uri": "https://localhost:8080/"
        },
        "id": "PFyB2NMST-c1",
        "outputId": "d7d603d3-5009-4ec1-a07e-528d24a84659"
      },
      "source": [
        "# diferença de uma amostra de teste, para cada amostra da base de treino do Titanic.\n",
        "# axis=1  - pega apenas as linhas na somatória\n",
        "\n",
        "distancias = np.sum((amostra_teste_tit - treino_titanic[:,:4]) ** 2, axis=1) ** 0.5\n",
        "print(\"Distâncias de uma amostra de teste para todas as amostras de treino do Titanic:\")\n",
        "print(distancias)"
      ],
      "execution_count": 283,
      "outputs": [
        {
          "output_type": "stream",
          "name": "stdout",
          "text": [
            "Distâncias de uma amostra de teste para todas as amostras de treino do Titanic:\n",
            "[3.13224303 2.97263477 2.73800767 4.33727242 3.63050547 4.33606928\n",
            " 3.34040556 2.85225299 3.56829011 4.58835352 3.6617617  2.17847447\n",
            " 2.5051469  2.36446819 2.86956557 4.63773115 4.17168903 3.33981867\n",
            " 3.05203804 3.66307055 2.56616128 4.28822797 3.44805783 2.72638241\n",
            " 2.38984685 3.12270542 3.72458239 3.58511419 3.48504588 2.32980462\n",
            " 2.78475    3.34040556 3.70935782 2.65254944 3.48533028 2.39026919\n",
            " 4.34384425 3.34040556 4.32455701 2.45357688 3.04832825 2.39635321\n",
            " 2.45202552 2.45504643 2.11534442 2.75118498 2.78242498 2.59448872\n",
            " 2.57434842 3.92596992 4.02087019 4.25515394 1.98218077 4.88295536\n",
            " 2.78196057 4.54248144 2.95237169 5.53162362 3.47920347 3.4478786\n",
            " 2.69421364 4.08461998 3.572317   3.7304318  2.45504643 3.06852284\n",
            " 3.04832825 2.38772699 2.88713052 4.23034922 2.9953024  5.98090491\n",
            " 4.40142435 4.17507463 2.60737333 2.14126619 2.34466335 4.44234313\n",
            " 2.84948186 2.04710078 2.72616857 3.6391002  4.36656371 2.45517254\n",
            " 3.85514737 4.25308853 4.33476333 4.26365733 3.89584592 2.46010598\n",
            " 3.81063666 3.16456062 3.96861871 2.45525629 2.45357688 2.42001832\n",
            " 4.19671709 2.98428186 3.5166206  2.45357688 4.08070165 2.24774355\n",
            " 4.52980773 2.20606806 2.34150004 2.52811997 3.35846518 3.69815161\n",
            " 3.10021983 4.23080998 4.20629022 2.72142036 4.2124005  4.27054099\n",
            " 4.75938358 2.72090221 4.29080454 2.87055266 3.7182437  1.97720235\n",
            " 3.1874856  4.22992099 4.45304362 4.60529776 2.53327795 4.27820074\n",
            " 4.2798977  3.88076314 2.59076214 2.69169118 3.33944849 3.13224303\n",
            " 3.06234405 4.05693992 4.19862998 3.56666237 4.27719704 2.38876276\n",
            " 2.17915407 2.75195652 2.68819042 2.74374999 3.02478578 2.76607829\n",
            " 1.97938007 3.43486135 2.97527744 3.37784216 4.47482749 2.17466429\n",
            " 2.445394   2.57002237 2.83334948 3.23341695 2.45202552 2.46213842\n",
            " 2.95096342 3.34012759 3.44187832 2.22565651 2.59277052 4.24579145\n",
            " 2.84239295 4.20117845 2.44793203 4.02278905 3.19483389 4.20651432\n",
            " 2.64931726 2.24857876 4.4014078  3.93065315 4.27013747 3.25681674\n",
            " 2.88803264 2.46035977 2.83191174 3.98060798 4.08661384 3.72706761\n",
            " 3.17667059 2.30313519 2.48979722 3.34581696 5.28770479 3.73337676\n",
            " 2.90111011 2.45357688 4.21334955 3.48693081 2.05995127 2.91978399\n",
            " 2.8886463  3.12317083 3.46396079 4.21418557 5.25325737 2.89738065\n",
            " 4.57417912 3.04707749 2.61927745 2.34941059 4.31530194 3.35884277\n",
            " 3.4151813  3.24364184 2.37124141 4.30863822 2.39023137 2.25486086\n",
            " 4.76468172 2.36420411 4.23586382 2.45529867 2.5051469  3.64419763\n",
            " 3.62766734 3.69357944 3.64587873 2.46010598 2.45357688 3.14325952\n",
            " 2.73418752 4.23055798 2.53525173 3.73433932 2.65282302 5.44951276\n",
            " 3.67317304 3.21369025 2.83875686 5.91617373 2.45504643 3.34428119\n",
            " 2.44589258 3.34022023 4.42870608 3.47282505 5.24439117 3.05445683\n",
            " 2.85837127 3.41153813 2.46035977 2.73138786 2.26461284 2.40337312\n",
            " 2.45202552 2.60697896 2.65536512 4.29602651 3.07763025 2.77152078\n",
            " 2.45504643 2.65556074 4.39983976 3.19344632 2.6478806  4.21732776\n",
            " 2.88965986 3.55066594 4.7282078  3.75450056 3.49033658 3.18034658\n",
            " 3.88467877 4.10960563 2.87484831 4.37531867 5.06007761 2.45357688\n",
            " 4.27775352 2.76672448 2.73914564 4.01985562 3.51059692 2.3859174\n",
            " 2.82896021 2.93763761 4.25025824 2.84239295 2.48181079 2.74594514\n",
            " 4.39096827 2.32863753 3.16232573 3.62786779 3.33944849 2.31289718\n",
            " 4.50752226 4.11683393 2.78693443 2.17998657 4.25348717 2.58410043\n",
            " 2.69283663 3.75420332 2.38069571 2.95253118 2.42701074 2.62529088\n",
            " 2.9997871  4.21157888 3.19422331 3.16161477 3.56621235 4.36143039\n",
            " 2.02192738 2.1360644  3.96536926 3.14325952 3.64874505 2.99644157\n",
            " 3.57970578 2.19650863 2.17847447 3.84651139 3.21150328 3.49083197\n",
            " 4.23208791 3.27860879 3.69238664 3.07090831 3.68667321 2.69398395\n",
            " 3.55455285 2.60670226 3.07248183 2.6506783  2.49570903 2.45504643\n",
            " 2.53352441 2.98808303 2.22890406 3.11131997 2.88449591 3.80496032\n",
            " 4.17600058 3.44785426 2.27146507 2.92717373 2.83630865 2.73688112\n",
            " 3.16401996 3.18458222 2.45424783 2.45357688 4.25975558 2.48938422\n",
            " 4.37889698 2.95096342 4.1671406  3.41011728 2.29715444 3.46466323\n",
            " 1.85097171 2.87484831 4.18900942 3.81339021 3.23477491 2.82736979\n",
            " 2.72108508 3.64438511 2.6944434  2.2079275  2.82764359 3.34040556\n",
            " 3.64364831 2.38433998 2.56467803 3.7595074  4.29971358 2.80491976\n",
            " 3.18739185 3.49469467 2.15355014 2.52995816 4.41250438 3.28221938\n",
            " 4.45813632 2.45357688 4.60488507 1.98872735 5.05295517 4.32363962\n",
            " 2.3233095  2.56712473 2.97527744 3.70209198 2.53525173 2.6506783\n",
            " 3.76517154 4.2500539  4.39325032 3.57128557 4.20629022 4.27172596\n",
            " 3.17667059 2.45357688 2.96560991 3.60309381 4.20456258 2.46409111\n",
            " 4.19778192 2.34149814 3.76667728 3.34052939 4.49005337 2.27611367\n",
            " 3.47911182 2.26260106 2.45357688 2.12470623 4.55719667 3.9976851\n",
            " 2.88449591 3.60848282 4.43400723 3.05203804 2.45357688 3.67642149\n",
            " 3.58225408 2.1869747  4.55719667 2.49139558 2.30344835 2.19839083\n",
            " 4.26948261 2.37395275 5.14740643 3.41755648 2.9391638  3.73008229\n",
            " 4.06039166 3.37165681 3.90307404 2.10628973 2.52934501 2.45357688\n",
            " 2.28695855 3.06234405 3.52607048 2.46315648 2.09833539 3.30652125\n",
            " 3.74987876 3.72753688 2.74374999 5.88581954 3.37441088 2.9425898\n",
            " 3.72048519 3.1190171  3.34040556 3.34147525 2.65536512 2.27973739\n",
            " 3.87264212 4.57127468 2.65025048 2.46031713 2.45504643 3.29501408\n",
            " 4.10409462 3.05765964 3.36419683 3.35672237 2.93678005 2.46035977\n",
            " 3.55566534 3.34040556 4.66132124 2.35740941 3.37441088 3.1814877\n",
            " 4.17079308 4.22629018 4.19702354 4.37597167 4.6527429  2.69348624\n",
            " 4.63861888 2.35588007 4.38544535 2.46035977 2.38069571 2.16654724\n",
            " 2.8448024  4.21711245 3.53935424 4.07502324 4.60339814 2.30501362\n",
            " 3.09139199 3.18719763 3.66177375 2.9845805  3.17667059 3.8869402\n",
            " 2.46031713 2.41959341 3.64438511 2.34149814 2.76487057 2.20482845\n",
            " 2.73864657 2.10008667 2.31407942 2.45202552 5.86785447 2.4101908\n",
            " 3.19503492 2.833103   3.74246899 2.52844613 3.24995406 2.43634075\n",
            " 3.15189916 3.21713881 2.46010598 3.64656546 2.72876548 2.65536512\n",
            " 3.34431256 2.3480245  4.24612605 2.89601529 4.53772069 4.8350401\n",
            " 2.75045519 2.83283957 3.65602068 4.23240669 3.66781482 2.30736405\n",
            " 2.93244648 2.45947185 2.64931726 4.47065085 3.58511419 3.27946531\n",
            " 3.60750486 3.08076598 2.55087314 4.59165735 3.56833083 2.69283663\n",
            " 9.86475236 2.3480245  3.08043574 9.86097503 1.89116153 3.30842707\n",
            " 2.18989875 3.51908153 2.30736405 3.61400939 2.45202552 2.83353119\n",
            " 2.35579473 2.71023388 3.47929411 3.60481199 2.45202552 2.32721681\n",
            " 4.27129987 2.33091112 3.71411571 2.41224004 3.10442964 3.44665578\n",
            " 2.45202552 2.63588286 2.46035977 2.8993001  3.71016877 2.87484831\n",
            " 2.38069571 2.5051469  2.69169118 4.29852125 3.58188384 4.2500539\n",
            " 2.46031713 2.25661418 3.87786019 4.2429648  2.38984685 2.43758273\n",
            " 2.18950897 3.25830276 3.66220684 3.07191236 2.51959042 2.4905841\n",
            " 5.10977228 2.39894566 2.9931792  2.45521492 2.83353119 2.95707\n",
            " 3.91122368 4.41540401 2.27155423 2.69459692 3.14348162 2.84207776\n",
            " 3.59545639 3.55066594 4.42546942 2.34243822 4.23352701 3.13673648\n",
            " 2.26251467 3.68278123 3.16172707 2.89738065 3.19145331 3.83061105\n",
            " 2.27579598 3.62724749 2.45479426 4.25454296 2.30313519 2.93102089]\n"
          ]
        }
      ]
    },
    {
      "cell_type": "markdown",
      "metadata": {
        "id": "aPrXJCFIT-c1"
      },
      "source": [
        "#### Utilizando K=3, para a base do Titanic"
      ]
    },
    {
      "cell_type": "code",
      "metadata": {
        "colab": {
          "base_uri": "https://localhost:8080/"
        },
        "id": "yfFu3ta3T-c2",
        "outputId": "c57de874-949f-42be-f78b-5528556169d2"
      },
      "source": [
        "#Ajustando o valor de K para a base do Titanic\n",
        "# k = 3, são os registros das menores 3 distancias \n",
        "k = 3\n",
        "indices = distancias.argsort()[:k]\n",
        "print(\"Indices dos vizinhos mais próximos:\", indices)"
      ],
      "execution_count": 284,
      "outputs": [
        {
          "output_type": "stream",
          "name": "stdout",
          "text": [
            "Indices dos vizinhos mais próximos: [354 550 119]\n"
          ]
        }
      ]
    },
    {
      "cell_type": "code",
      "metadata": {
        "colab": {
          "base_uri": "https://localhost:8080/"
        },
        "id": "p9vS4HrZT-c2",
        "outputId": "66bb8b16-a5fd-4f56-efc2-d1d7e0d4a99d"
      },
      "source": [
        "from collections import Counter\n",
        "\n",
        "#pega a coluna 0 na base original do Titanic - Coluna - Survived (0 ou 1)\n",
        "vizinhos = treino_titanic[indices,0]\n",
        "print(\"Vizinhos mais próximos:\", vizinhos)\n",
        "\n",
        "# calculando a moda do numero de K vizinhos, depois verificar o mais comun,para tirar da tupla, indice [0]\n",
        "classe = Counter(vizinhos).most_common(1)[0][0]\n",
        "print(\"Classe mais frequente e quantidade:\", Counter(vizinhos).most_common(1))"
      ],
      "execution_count": 285,
      "outputs": [
        {
          "output_type": "stream",
          "name": "stdout",
          "text": [
            "Vizinhos mais próximos: [0. 0. 0.]\n",
            "Classe mais frequente e quantidade: [(0.0, 3)]\n"
          ]
        }
      ]
    },
    {
      "cell_type": "markdown",
      "metadata": {
        "id": "7evHUsjeT-c2"
      },
      "source": [
        "#### Definindo a base X e a saída Y da base do Iitanic"
      ]
    },
    {
      "cell_type": "code",
      "metadata": {
        "colab": {
          "base_uri": "https://localhost:8080/"
        },
        "id": "xw5AD9IjT-c2",
        "outputId": "d7a38125-2c60-47c6-dfa7-e3c3bf2371c0"
      },
      "source": [
        "# definindo a base X e a saída Y da base do titanic\n",
        "\n",
        "X_tit = treino_titanic[:,1:5]   # X = todo o resto da base, menos a coluna \"Survived\"\n",
        "y_tit = treino_titanic[:,0]     # y é a saída, a resposta, apenas a coluna 0, onde 0: não sobreviveu, 1: sobreviveu\n",
        "\n",
        "xt_tit = teste_titanic[0,1:5]   # um teste do Knn - uma simples amostra para ser titulada\n",
        "\n",
        "knn(X_tit,y_tit,xt_tit)"
      ],
      "execution_count": 286,
      "outputs": [
        {
          "output_type": "execute_result",
          "data": {
            "text/plain": [
              "0.0"
            ]
          },
          "metadata": {},
          "execution_count": 286
        }
      ]
    },
    {
      "cell_type": "markdown",
      "metadata": {
        "id": "Ty2OFFWQT-c2"
      },
      "source": [
        "#### Aplicando a função de Edit Knn Inserção na base do Titanic"
      ]
    },
    {
      "cell_type": "markdown",
      "metadata": {
        "id": "ysJmE9eOT-c2"
      },
      "source": [
        "#### Aplicando a função Edit Knn inserção no knn com a base de treino reduzida, no conjunto de teste."
      ]
    },
    {
      "cell_type": "code",
      "metadata": {
        "colab": {
          "base_uri": "https://localhost:8080/"
        },
        "id": "Lu_ZPn3xT-c3",
        "outputId": "b09e90df-dd45-4ab0-aade-c5c7a9e38ff0"
      },
      "source": [
        "# Aplicando a função inserção no knn com a base de treino reduzida, no conjunto de teste\n",
        "\n",
        "Xtit_reduzi_inser, Ytit_reduzi_inser =  editKNN_insercao(X_tit,y_tit)\n",
        "\n",
        "X_teste_tit = teste_titanic[:,1:5]\n",
        "y_teste_tit = teste_titanic[:,0]\n",
        "\n",
        "classe_inser = []\n",
        "\n",
        "for amostra_inser in X_teste_tit:\n",
        "    classe_inser.append(knn(Xtit_reduzi_inser, Ytit_reduzi_inser, amostra_inser))\n",
        "acuracia_tit = (y_teste_tit == classe_inser).mean()\n",
        "\n",
        "print('A acurácia para o Knn, aplicando a função de inserção e usando a base de treino reduzida foi de: %f' % acuracia_tit)   \n",
        "    "
      ],
      "execution_count": 287,
      "outputs": [
        {
          "output_type": "stream",
          "name": "stdout",
          "text": [
            "A acurácia para o Knn, aplicando a função de inserção e usando a base de treino reduzida foi de: 0.692884\n"
          ]
        }
      ]
    },
    {
      "cell_type": "code",
      "metadata": {
        "colab": {
          "base_uri": "https://localhost:8080/"
        },
        "id": "P4NjQb8vT-c3",
        "outputId": "69682ca5-83a7-44e8-b9b1-ae9a29909f97"
      },
      "source": [
        "#tamanho da base X reduzida pela função Inserção\n",
        "len(Xtit_reduzi_inser)"
      ],
      "execution_count": 288,
      "outputs": [
        {
          "output_type": "execute_result",
          "data": {
            "text/plain": [
              "187"
            ]
          },
          "metadata": {},
          "execution_count": 288
        }
      ]
    },
    {
      "cell_type": "code",
      "metadata": {
        "colab": {
          "base_uri": "https://localhost:8080/"
        },
        "id": "QezDCeGhT-c3",
        "outputId": "441221f9-c31d-42c0-f731-9411b715989c"
      },
      "source": [
        "#tamanho da base Y reduzida pela função Inserção\n",
        "len(Ytit_reduzi_inser)"
      ],
      "execution_count": 289,
      "outputs": [
        {
          "output_type": "execute_result",
          "data": {
            "text/plain": [
              "187"
            ]
          },
          "metadata": {},
          "execution_count": 289
        }
      ]
    },
    {
      "cell_type": "markdown",
      "metadata": {
        "id": "344DbWhZT-c3"
      },
      "source": [
        "#### Aplicando a função Edit Knn Remoção na base do Titanic"
      ]
    },
    {
      "cell_type": "markdown",
      "metadata": {
        "id": "7IZjmVMsT-c3"
      },
      "source": [
        "#### Aplicando a função Edit Knn Remoção no knn com a base de treino reduzida, no cojunto de teste"
      ]
    },
    {
      "cell_type": "code",
      "metadata": {
        "colab": {
          "base_uri": "https://localhost:8080/"
        },
        "id": "WcS_OgvYT-c3",
        "outputId": "2149f053-7641-478a-9f49-04a9d19a3c31"
      },
      "source": [
        "# Aplicando a função remoção no knn com a base de treino reduzida\n",
        "\n",
        "Xtit_reduzi_remocao, Ytit_reduzi_remocao =  editKNN_remocao(X_tit,y_tit)\n",
        "\n",
        "X_teste_tit = teste_titanic[:,1:5]\n",
        "y_teste_tit = teste_titanic[:,0]\n",
        "\n",
        "classe_rem = []\n",
        "\n",
        "for amostra_rem in X_teste_tit:\n",
        "    classe_rem.append(knn(Xtit_reduzi_remocao, Ytit_reduzi_remocao, amostra_rem))\n",
        "acuracia_tit = (y_teste_tit == classe_rem).mean()\n",
        "\n",
        "print('A acurácia para o Knn, aplicando a função de remoção e usando a base de treino reduzida foi de: %f' % acuracia_tit)   "
      ],
      "execution_count": 290,
      "outputs": [
        {
          "output_type": "stream",
          "name": "stdout",
          "text": [
            "A acurácia para o Knn, aplicando a função de remoção e usando a base de treino reduzida foi de: 0.475655\n"
          ]
        }
      ]
    },
    {
      "cell_type": "code",
      "metadata": {
        "scrolled": false,
        "colab": {
          "base_uri": "https://localhost:8080/"
        },
        "id": "V4nmvZQ-T-c3",
        "outputId": "569ac837-f455-49d3-9826-77c634df03b1"
      },
      "source": [
        "#tamanho da base X reduzida pela função Remoção\n",
        "len (Xtit_reduzi_remocao)"
      ],
      "execution_count": 291,
      "outputs": [
        {
          "output_type": "execute_result",
          "data": {
            "text/plain": [
              "145"
            ]
          },
          "metadata": {},
          "execution_count": 291
        }
      ]
    },
    {
      "cell_type": "code",
      "metadata": {
        "colab": {
          "base_uri": "https://localhost:8080/"
        },
        "id": "WQPuM0TuT-c4",
        "outputId": "7df800fe-5250-4227-c043-34267280d106"
      },
      "source": [
        "#tamanho da base Y reduzida pela função Remoção\n",
        "len(Ytit_reduzi_remocao)"
      ],
      "execution_count": 292,
      "outputs": [
        {
          "output_type": "execute_result",
          "data": {
            "text/plain": [
              "145"
            ]
          },
          "metadata": {},
          "execution_count": 292
        }
      ]
    },
    {
      "cell_type": "markdown",
      "metadata": {
        "id": "5YzK6KPST-c4"
      },
      "source": [
        "### Respostas:\n",
        "\n",
        "#### A acurácia foi de 69% na base reduzida pelo método da inserção e 48% na base reduzida pelo método da remoção, para o conjunto de teste.\n",
        "\n",
        "#### A quantidade de amostras, ficou um pouco menor na base reduzida da função Edit Knn Remoção.    \n",
        "\n",
        "#### A função Edit Knn Remoção ficou com uma base reduzida de 145 amostras e a função Edit Knn Inserção ficou com uma base reduzida de 187 amostras.\n",
        "\n",
        "#### Usando o Knn com as funções Edit, teve uma melhora na redução da quantidade de amostras na base de treino de ambas as funções. "
      ]
    },
    {
      "cell_type": "code",
      "metadata": {
        "id": "Sq5M0h3QT-c4"
      },
      "source": [
        ""
      ],
      "execution_count": 292,
      "outputs": []
    }
  ]
}